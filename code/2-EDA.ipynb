{
 "cells": [
  {
   "cell_type": "markdown",
   "id": "9b3caf31-90a3-49e2-a570-87e6d9181c20",
   "metadata": {},
   "source": [
    "# Project 3 : 2-EDA"
   ]
  },
  {
   "cell_type": "markdown",
   "id": "93f49139-6744-4673-ae4d-7ee253b7b8bf",
   "metadata": {},
   "source": [
    "## Problem statement"
   ]
  },
  {
   "cell_type": "markdown",
   "id": "a278c6e1-d298-4725-bcf4-05e6ff28c47e",
   "metadata": {},
   "source": [
    "> Create the model to predict where the given post came from between cat and dog post"
   ]
  },
  {
   "cell_type": "code",
   "execution_count": 1,
   "id": "d6d1af4c-6e99-4820-bf1b-6dd3d3753e25",
   "metadata": {},
   "outputs": [
    {
     "name": "stderr",
     "output_type": "stream",
     "text": [
      "/var/folders/yr/lt5kfbcj2vs6bwkkyhxsp_0c0000gn/T/ipykernel_46746/3271241802.py:7: FutureWarning: The demoji.download_codes attribute is deprecated and will be removed from demoji in a future version. It is an unused attribute as emoji codes are now distributed directly with the demoji package.\n",
      "  demoji.download_codes()\n"
     ]
    }
   ],
   "source": [
    "import pandas as pd\n",
    "import seaborn as sns\n",
    "import matplotlib.pyplot as plt\n",
    "from nltk.sentiment.vader import SentimentIntensityAnalyzer\n",
    "\n",
    "import demoji\n",
    "demoji.download_codes()"
   ]
  },
  {
   "cell_type": "code",
   "execution_count": 2,
   "id": "a9d38d89-85b5-4de9-8178-9c3fd7c3345c",
   "metadata": {},
   "outputs": [],
   "source": [
    "from sklearn.feature_extraction.text import CountVectorizer\n",
    "\n",
    "## Lemmatization\n",
    "from nltk import word_tokenize   \n",
    "from nltk.stem import WordNetLemmatizer\n",
    "import re\n",
    "class LemmaTokenizer:\n",
    "    def __init__(self):\n",
    "        self.wnl = WordNetLemmatizer()\n",
    "    def __call__(self, doc):\n",
    "        regex_num_ponctuation = '(\\d+)|([^\\w\\s])'\n",
    "        regex_little_words = r'(\\b\\w{1,2}\\b)'\n",
    "        return [self.wnl.lemmatize(t) for t in word_tokenize(doc) \n",
    "                if not re.search(regex_num_ponctuation, t) and not re.search(regex_little_words, t)]\n",
    "# got this from https://stackoverflow.com/questions/47423854/sklearn-adding-lemmatizer-to-countvectorizer\n",
    "\n",
    "## Stemming\n",
    "import nltk.stem    \n",
    "english_stemmer = nltk.stem.SnowballStemmer('english')\n",
    "class StemmedCountVectorizer(CountVectorizer):\n",
    "    def build_analyzer(self):\n",
    "        analyzer = super(StemmedCountVectorizer, self).build_analyzer()\n",
    "        return lambda doc: ([english_stemmer.stem(w) for w in analyzer(doc)])\n",
    "# got this from https://stackoverflow.com/questions/36182502/add-stemming-support-to-countvectorizer-sklearn"
   ]
  },
  {
   "cell_type": "markdown",
   "id": "14a0a0f6-5b78-4396-ba81-359fee23703e",
   "metadata": {},
   "source": [
    "> Snowball Stemmer: It is a stemming algorithm which is also known as the Porter2 stemming algorithm as it is a better version of the Porter Stemmer since some issues of it were fixed in this stemmer. https://www.geeksforgeeks.org/snowball-stemmer-nlp/"
   ]
  },
  {
   "cell_type": "markdown",
   "id": "5c8e97d9-2587-406e-9b78-ad99d7bb4bca",
   "metadata": {},
   "source": [
    "### Import Data from step 1"
   ]
  },
  {
   "cell_type": "code",
   "execution_count": 3,
   "id": "7a1c480f-e524-49d1-8f87-8077e9d9ced1",
   "metadata": {},
   "outputs": [
    {
     "data": {
      "text/plain": [
       "((5999, 2), (5992, 2))"
      ]
     },
     "execution_count": 3,
     "metadata": {},
     "output_type": "execute_result"
    }
   ],
   "source": [
    "df_cat = pd.read_csv('../data/cats_all.csv')\n",
    "df_dog = pd.read_csv('../data/dogs_all.csv')\n",
    "df_cat.shape, df_dog.shape"
   ]
  },
  {
   "cell_type": "code",
   "execution_count": 4,
   "id": "11fd1793-317e-499f-9846-0b5d160655fe",
   "metadata": {},
   "outputs": [
    {
     "data": {
      "text/html": [
       "<div>\n",
       "<style scoped>\n",
       "    .dataframe tbody tr th:only-of-type {\n",
       "        vertical-align: middle;\n",
       "    }\n",
       "\n",
       "    .dataframe tbody tr th {\n",
       "        vertical-align: top;\n",
       "    }\n",
       "\n",
       "    .dataframe thead th {\n",
       "        text-align: right;\n",
       "    }\n",
       "</style>\n",
       "<table border=\"1\" class=\"dataframe\">\n",
       "  <thead>\n",
       "    <tr style=\"text-align: right;\">\n",
       "      <th></th>\n",
       "      <th>subreddit</th>\n",
       "      <th>title</th>\n",
       "    </tr>\n",
       "  </thead>\n",
       "  <tbody>\n",
       "    <tr>\n",
       "      <th>0</th>\n",
       "      <td>cats</td>\n",
       "      <td>Sanji kept staring at me so i seized the oppor...</td>\n",
       "    </tr>\n",
       "    <tr>\n",
       "      <th>1</th>\n",
       "      <td>cats</td>\n",
       "      <td>I make minimalistic clay cats. The Dinky Cats</td>\n",
       "    </tr>\n",
       "    <tr>\n",
       "      <th>2</th>\n",
       "      <td>cats</td>\n",
       "      <td>Why has my cat been throwing up her treats?</td>\n",
       "    </tr>\n",
       "    <tr>\n",
       "      <th>3</th>\n",
       "      <td>cats</td>\n",
       "      <td>My grumpy floof 💕</td>\n",
       "    </tr>\n",
       "    <tr>\n",
       "      <th>4</th>\n",
       "      <td>cats</td>\n",
       "      <td>When you hear the other cats being fed.</td>\n",
       "    </tr>\n",
       "  </tbody>\n",
       "</table>\n",
       "</div>"
      ],
      "text/plain": [
       "  subreddit                                              title\n",
       "0      cats  Sanji kept staring at me so i seized the oppor...\n",
       "1      cats      I make minimalistic clay cats. The Dinky Cats\n",
       "2      cats        Why has my cat been throwing up her treats?\n",
       "3      cats                                  My grumpy floof 💕\n",
       "4      cats            When you hear the other cats being fed."
      ]
     },
     "execution_count": 4,
     "metadata": {},
     "output_type": "execute_result"
    }
   ],
   "source": [
    "df_cat.head()"
   ]
  },
  {
   "cell_type": "code",
   "execution_count": 5,
   "id": "7bb4c1e2-3450-4d4d-9495-078ba3677c13",
   "metadata": {},
   "outputs": [
    {
     "data": {
      "text/html": [
       "<div>\n",
       "<style scoped>\n",
       "    .dataframe tbody tr th:only-of-type {\n",
       "        vertical-align: middle;\n",
       "    }\n",
       "\n",
       "    .dataframe tbody tr th {\n",
       "        vertical-align: top;\n",
       "    }\n",
       "\n",
       "    .dataframe thead th {\n",
       "        text-align: right;\n",
       "    }\n",
       "</style>\n",
       "<table border=\"1\" class=\"dataframe\">\n",
       "  <thead>\n",
       "    <tr style=\"text-align: right;\">\n",
       "      <th></th>\n",
       "      <th>subreddit</th>\n",
       "      <th>title</th>\n",
       "    </tr>\n",
       "  </thead>\n",
       "  <tbody>\n",
       "    <tr>\n",
       "      <th>0</th>\n",
       "      <td>dogs</td>\n",
       "      <td>Scars on rescue dog's face?</td>\n",
       "    </tr>\n",
       "    <tr>\n",
       "      <th>1</th>\n",
       "      <td>dogs</td>\n",
       "      <td>Possible IMHA Diagnosis</td>\n",
       "    </tr>\n",
       "    <tr>\n",
       "      <th>2</th>\n",
       "      <td>dogs</td>\n",
       "      <td>Breed Suggestions?</td>\n",
       "    </tr>\n",
       "    <tr>\n",
       "      <th>3</th>\n",
       "      <td>dogs</td>\n",
       "      <td>I cannot tell if a dog likes me or not?</td>\n",
       "    </tr>\n",
       "    <tr>\n",
       "      <th>4</th>\n",
       "      <td>dogs</td>\n",
       "      <td>My 13 year old dog couldn’t jump in the bed. W...</td>\n",
       "    </tr>\n",
       "  </tbody>\n",
       "</table>\n",
       "</div>"
      ],
      "text/plain": [
       "  subreddit                                              title\n",
       "0      dogs                        Scars on rescue dog's face?\n",
       "1      dogs                            Possible IMHA Diagnosis\n",
       "2      dogs                                 Breed Suggestions?\n",
       "3      dogs            I cannot tell if a dog likes me or not?\n",
       "4      dogs  My 13 year old dog couldn’t jump in the bed. W..."
      ]
     },
     "execution_count": 5,
     "metadata": {},
     "output_type": "execute_result"
    }
   ],
   "source": [
    "df_dog.head()"
   ]
  },
  {
   "cell_type": "markdown",
   "id": "de43dfdc-89fc-4c9e-9e14-35a2fefc1e67",
   "metadata": {},
   "source": [
    "### EDA"
   ]
  },
  {
   "cell_type": "code",
   "execution_count": 6,
   "id": "90a3e979-0c85-45d1-b770-b1161f309cba",
   "metadata": {},
   "outputs": [
    {
     "name": "stdout",
     "output_type": "stream",
     "text": [
      "<class 'pandas.core.frame.DataFrame'>\n",
      "RangeIndex: 5999 entries, 0 to 5998\n",
      "Data columns (total 2 columns):\n",
      " #   Column     Non-Null Count  Dtype \n",
      "---  ------     --------------  ----- \n",
      " 0   subreddit  5999 non-null   object\n",
      " 1   title      5999 non-null   object\n",
      "dtypes: object(2)\n",
      "memory usage: 93.9+ KB\n"
     ]
    }
   ],
   "source": [
    "df_cat.info()"
   ]
  },
  {
   "cell_type": "code",
   "execution_count": 7,
   "id": "0de76ee7-7d17-478b-9f6a-e5a9bdd886e8",
   "metadata": {},
   "outputs": [
    {
     "name": "stdout",
     "output_type": "stream",
     "text": [
      "<class 'pandas.core.frame.DataFrame'>\n",
      "RangeIndex: 5992 entries, 0 to 5991\n",
      "Data columns (total 2 columns):\n",
      " #   Column     Non-Null Count  Dtype \n",
      "---  ------     --------------  ----- \n",
      " 0   subreddit  5992 non-null   object\n",
      " 1   title      5992 non-null   object\n",
      "dtypes: object(2)\n",
      "memory usage: 93.8+ KB\n"
     ]
    }
   ],
   "source": [
    "df_dog.info()"
   ]
  },
  {
   "cell_type": "markdown",
   "id": "40c1379b-11ff-4444-9e75-3d28f373806d",
   "metadata": {},
   "source": [
    "#### Check subreddit category"
   ]
  },
  {
   "cell_type": "code",
   "execution_count": 8,
   "id": "f80f8a22-9f7c-44b9-b47b-38544dd74ac6",
   "metadata": {
    "scrolled": true,
    "tags": []
   },
   "outputs": [
    {
     "data": {
      "text/plain": [
       "({'cats'}, {'dogs', 'u_usa-dogs'})"
      ]
     },
     "execution_count": 8,
     "metadata": {},
     "output_type": "execute_result"
    }
   ],
   "source": [
    "set(df_cat['subreddit']), set(df_dog['subreddit'])"
   ]
  },
  {
   "cell_type": "markdown",
   "id": "db4b3666-f043-450e-bd49-2b5199a1731d",
   "metadata": {},
   "source": [
    "#### Remove unwant subreddit category"
   ]
  },
  {
   "cell_type": "code",
   "execution_count": 9,
   "id": "970c6d9a-5339-46a7-aa4a-9bf740535415",
   "metadata": {},
   "outputs": [
    {
     "data": {
      "text/plain": [
       "((5999, 2), (5988, 2))"
      ]
     },
     "execution_count": 9,
     "metadata": {},
     "output_type": "execute_result"
    }
   ],
   "source": [
    "df_cat = df_cat[df_cat['subreddit']=='cats']\n",
    "df_dog = df_dog[df_dog['subreddit']=='dogs']\n",
    "df_cat.shape, df_dog.shape"
   ]
  },
  {
   "cell_type": "markdown",
   "id": "414e3a83-2771-4761-8344-e7e2c4a385a9",
   "metadata": {},
   "source": [
    "### Looking for any duplicates title"
   ]
  },
  {
   "cell_type": "code",
   "execution_count": 10,
   "id": "3f1a0029-852e-415b-bb6f-4472169091e7",
   "metadata": {},
   "outputs": [
    {
     "data": {
      "text/html": [
       "<div>\n",
       "<style scoped>\n",
       "    .dataframe tbody tr th:only-of-type {\n",
       "        vertical-align: middle;\n",
       "    }\n",
       "\n",
       "    .dataframe tbody tr th {\n",
       "        vertical-align: top;\n",
       "    }\n",
       "\n",
       "    .dataframe thead th {\n",
       "        text-align: right;\n",
       "    }\n",
       "</style>\n",
       "<table border=\"1\" class=\"dataframe\">\n",
       "  <thead>\n",
       "    <tr style=\"text-align: right;\">\n",
       "      <th></th>\n",
       "      <th>subreddit</th>\n",
       "      <th>title</th>\n",
       "    </tr>\n",
       "  </thead>\n",
       "  <tbody>\n",
       "    <tr>\n",
       "      <th>116</th>\n",
       "      <td>cats</td>\n",
       "      <td>Am i feeding my cat enough?</td>\n",
       "    </tr>\n",
       "    <tr>\n",
       "      <th>155</th>\n",
       "      <td>cats</td>\n",
       "      <td>caption this</td>\n",
       "    </tr>\n",
       "    <tr>\n",
       "      <th>443</th>\n",
       "      <td>cats</td>\n",
       "      <td>The cat at my local library is so beautiful😻</td>\n",
       "    </tr>\n",
       "    <tr>\n",
       "      <th>461</th>\n",
       "      <td>cats</td>\n",
       "      <td>Looking for advice. GF's cat has been refusing...</td>\n",
       "    </tr>\n",
       "    <tr>\n",
       "      <th>538</th>\n",
       "      <td>cats</td>\n",
       "      <td>Cats are being murdered, trapped and brutally ...</td>\n",
       "    </tr>\n",
       "    <tr>\n",
       "      <th>...</th>\n",
       "      <td>...</td>\n",
       "      <td>...</td>\n",
       "    </tr>\n",
       "    <tr>\n",
       "      <th>5912</th>\n",
       "      <td>cats</td>\n",
       "      <td>Chunky boy had a very sleepy day today</td>\n",
       "    </tr>\n",
       "    <tr>\n",
       "      <th>5932</th>\n",
       "      <td>cats</td>\n",
       "      <td>He's trying out a new cookie recipe!</td>\n",
       "    </tr>\n",
       "    <tr>\n",
       "      <th>5950</th>\n",
       "      <td>cats</td>\n",
       "      <td>My sweet boys yogurt and orange juice</td>\n",
       "    </tr>\n",
       "    <tr>\n",
       "      <th>5958</th>\n",
       "      <td>cats</td>\n",
       "      <td>Help</td>\n",
       "    </tr>\n",
       "    <tr>\n",
       "      <th>5983</th>\n",
       "      <td>cats</td>\n",
       "      <td>Sweet dreams</td>\n",
       "    </tr>\n",
       "  </tbody>\n",
       "</table>\n",
       "<p>134 rows × 2 columns</p>\n",
       "</div>"
      ],
      "text/plain": [
       "     subreddit                                              title\n",
       "116       cats                        Am i feeding my cat enough?\n",
       "155       cats                                       caption this\n",
       "443       cats       The cat at my local library is so beautiful😻\n",
       "461       cats  Looking for advice. GF's cat has been refusing...\n",
       "538       cats  Cats are being murdered, trapped and brutally ...\n",
       "...        ...                                                ...\n",
       "5912      cats             Chunky boy had a very sleepy day today\n",
       "5932      cats               He's trying out a new cookie recipe!\n",
       "5950      cats              My sweet boys yogurt and orange juice\n",
       "5958      cats                                               Help\n",
       "5983      cats                                       Sweet dreams\n",
       "\n",
       "[134 rows x 2 columns]"
      ]
     },
     "execution_count": 10,
     "metadata": {},
     "output_type": "execute_result"
    }
   ],
   "source": [
    "df_cat[df_cat.duplicated(['title'])]\n",
    "# got this from https://www.statology.org/pandas-find-duplicates/"
   ]
  },
  {
   "cell_type": "code",
   "execution_count": 11,
   "id": "7d08c649-2ba1-41ee-8b01-893f621a00d6",
   "metadata": {},
   "outputs": [
    {
     "data": {
      "text/html": [
       "<div>\n",
       "<style scoped>\n",
       "    .dataframe tbody tr th:only-of-type {\n",
       "        vertical-align: middle;\n",
       "    }\n",
       "\n",
       "    .dataframe tbody tr th {\n",
       "        vertical-align: top;\n",
       "    }\n",
       "\n",
       "    .dataframe thead th {\n",
       "        text-align: right;\n",
       "    }\n",
       "</style>\n",
       "<table border=\"1\" class=\"dataframe\">\n",
       "  <thead>\n",
       "    <tr style=\"text-align: right;\">\n",
       "      <th></th>\n",
       "      <th>subreddit</th>\n",
       "      <th>title</th>\n",
       "    </tr>\n",
       "  </thead>\n",
       "  <tbody>\n",
       "    <tr>\n",
       "      <th>189</th>\n",
       "      <td>dogs</td>\n",
       "      <td>Quick question</td>\n",
       "    </tr>\n",
       "    <tr>\n",
       "      <th>275</th>\n",
       "      <td>dogs</td>\n",
       "      <td>Sudden loss of my best friend</td>\n",
       "    </tr>\n",
       "    <tr>\n",
       "      <th>298</th>\n",
       "      <td>dogs</td>\n",
       "      <td>My dog was diagnosed with lymphoma today and I...</td>\n",
       "    </tr>\n",
       "    <tr>\n",
       "      <th>422</th>\n",
       "      <td>dogs</td>\n",
       "      <td>Are there any specific dog breeds that you wou...</td>\n",
       "    </tr>\n",
       "    <tr>\n",
       "      <th>443</th>\n",
       "      <td>dogs</td>\n",
       "      <td>Lyme disease and confusion</td>\n",
       "    </tr>\n",
       "    <tr>\n",
       "      <th>...</th>\n",
       "      <td>...</td>\n",
       "      <td>...</td>\n",
       "    </tr>\n",
       "    <tr>\n",
       "      <th>5657</th>\n",
       "      <td>dogs</td>\n",
       "      <td>Considering 3 breeds: Australian Shepherd, Eng...</td>\n",
       "    </tr>\n",
       "    <tr>\n",
       "      <th>5697</th>\n",
       "      <td>dogs</td>\n",
       "      <td>Food aggression</td>\n",
       "    </tr>\n",
       "    <tr>\n",
       "      <th>5762</th>\n",
       "      <td>dogs</td>\n",
       "      <td>Had to put the best girl down yesterday.</td>\n",
       "    </tr>\n",
       "    <tr>\n",
       "      <th>5874</th>\n",
       "      <td>dogs</td>\n",
       "      <td>Pet Sitting</td>\n",
       "    </tr>\n",
       "    <tr>\n",
       "      <th>5954</th>\n",
       "      <td>dogs</td>\n",
       "      <td>Advice?</td>\n",
       "    </tr>\n",
       "  </tbody>\n",
       "</table>\n",
       "<p>88 rows × 2 columns</p>\n",
       "</div>"
      ],
      "text/plain": [
       "     subreddit                                              title\n",
       "189       dogs                                     Quick question\n",
       "275       dogs                      Sudden loss of my best friend\n",
       "298       dogs  My dog was diagnosed with lymphoma today and I...\n",
       "422       dogs  Are there any specific dog breeds that you wou...\n",
       "443       dogs                         Lyme disease and confusion\n",
       "...        ...                                                ...\n",
       "5657      dogs  Considering 3 breeds: Australian Shepherd, Eng...\n",
       "5697      dogs                                    Food aggression\n",
       "5762      dogs           Had to put the best girl down yesterday.\n",
       "5874      dogs                                        Pet Sitting\n",
       "5954      dogs                                            Advice?\n",
       "\n",
       "[88 rows x 2 columns]"
      ]
     },
     "execution_count": 11,
     "metadata": {},
     "output_type": "execute_result"
    }
   ],
   "source": [
    "df_dog[df_dog.duplicated(['title'])]"
   ]
  },
  {
   "cell_type": "markdown",
   "id": "948812f1-a81e-427b-9bf9-797b0930f185",
   "metadata": {},
   "source": [
    "#### Remove duplicates"
   ]
  },
  {
   "cell_type": "code",
   "execution_count": 12,
   "id": "2240ac68-9b57-4f5b-be53-bd492f8d76f0",
   "metadata": {},
   "outputs": [
    {
     "data": {
      "text/plain": [
       "((5754, 2), (5825, 2))"
      ]
     },
     "execution_count": 12,
     "metadata": {},
     "output_type": "execute_result"
    }
   ],
   "source": [
    "df_cat.drop_duplicates(subset=\"title\", keep=False, inplace=True)\n",
    "df_dog.drop_duplicates(subset=\"title\", keep=False, inplace=True)\n",
    "df_cat.shape, df_dog.shape\n",
    "\n",
    "# got this from https://www.geeksforgeeks.org/python-pandas-dataframe-drop_duplicates/"
   ]
  },
  {
   "cell_type": "markdown",
   "id": "e11d55c2-eb08-4796-9032-27e33464cbe5",
   "metadata": {},
   "source": [
    "> ### Until now we have data left around 5,700-5,900 posts for each category"
   ]
  },
  {
   "cell_type": "markdown",
   "id": "7646df14-5406-4521-8853-0447476c771e",
   "metadata": {},
   "source": [
    "### Distribution of post lengths"
   ]
  },
  {
   "cell_type": "code",
   "execution_count": 13,
   "id": "93d2b832-c5e6-49cf-85c8-b19b0274d4d4",
   "metadata": {},
   "outputs": [
    {
     "data": {
      "image/png": "[encoded data removed]",
      "text/plain": [
       "<Figure size 640x480 with 1 Axes>"
      ]
     },
     "metadata": {},
     "output_type": "display_data"
    }
   ],
   "source": [
    "df_cat['title_length'] = df_cat['title'].map(lambda x: len(x))\n",
    "sns.histplot(df_cat['title_length']).set(title='Cats: Distribution of title lengths', ylabel='Frequency', xlabel='Title lengths');\n",
    "plt.savefig('../image/cat_distribution.png')"
   ]
  },
  {
   "cell_type": "code",
   "execution_count": 14,
   "id": "0fae02ff-1ff1-4e26-addf-e99702010935",
   "metadata": {},
   "outputs": [
    {
     "data": {
      "image/png": "[encoded data removed]",
      "text/plain": [
       "<Figure size 640x480 with 1 Axes>"
      ]
     },
     "metadata": {},
     "output_type": "display_data"
    }
   ],
   "source": [
    "df_dog['title_length'] = df_dog['title'].map(lambda x: len(x))\n",
    "sns.histplot(df_dog['title_length']).set(title='Dogs: Distribution of title lengths', ylabel='Frequency', xlabel='Title lengths');\n",
    "plt.savefig('../image/dog_distribution.png')"
   ]
  },
  {
   "cell_type": "code",
   "execution_count": 15,
   "id": "366ab48e-252d-463a-92ed-501e5fa54e08",
   "metadata": {},
   "outputs": [
    {
     "data": {
      "text/html": [
       "<div>\n",
       "<style scoped>\n",
       "    .dataframe tbody tr th:only-of-type {\n",
       "        vertical-align: middle;\n",
       "    }\n",
       "\n",
       "    .dataframe tbody tr th {\n",
       "        vertical-align: top;\n",
       "    }\n",
       "\n",
       "    .dataframe thead th {\n",
       "        text-align: right;\n",
       "    }\n",
       "</style>\n",
       "<table border=\"1\" class=\"dataframe\">\n",
       "  <thead>\n",
       "    <tr style=\"text-align: right;\">\n",
       "      <th></th>\n",
       "      <th>title_length</th>\n",
       "    </tr>\n",
       "  </thead>\n",
       "  <tbody>\n",
       "    <tr>\n",
       "      <th>count</th>\n",
       "      <td>5754.000000</td>\n",
       "    </tr>\n",
       "    <tr>\n",
       "      <th>mean</th>\n",
       "      <td>51.514425</td>\n",
       "    </tr>\n",
       "    <tr>\n",
       "      <th>std</th>\n",
       "      <td>49.399364</td>\n",
       "    </tr>\n",
       "    <tr>\n",
       "      <th>min</th>\n",
       "      <td>1.000000</td>\n",
       "    </tr>\n",
       "    <tr>\n",
       "      <th>25%</th>\n",
       "      <td>21.000000</td>\n",
       "    </tr>\n",
       "    <tr>\n",
       "      <th>50%</th>\n",
       "      <td>37.000000</td>\n",
       "    </tr>\n",
       "    <tr>\n",
       "      <th>75%</th>\n",
       "      <td>63.000000</td>\n",
       "    </tr>\n",
       "    <tr>\n",
       "      <th>max</th>\n",
       "      <td>316.000000</td>\n",
       "    </tr>\n",
       "  </tbody>\n",
       "</table>\n",
       "</div>"
      ],
      "text/plain": [
       "       title_length\n",
       "count   5754.000000\n",
       "mean      51.514425\n",
       "std       49.399364\n",
       "min        1.000000\n",
       "25%       21.000000\n",
       "50%       37.000000\n",
       "75%       63.000000\n",
       "max      316.000000"
      ]
     },
     "execution_count": 15,
     "metadata": {},
     "output_type": "execute_result"
    }
   ],
   "source": [
    "df_cat.describe()"
   ]
  },
  {
   "cell_type": "code",
   "execution_count": 16,
   "id": "305c09c7-415f-41a6-8b74-655b1ef56dd9",
   "metadata": {},
   "outputs": [
    {
     "data": {
      "text/html": [
       "<div>\n",
       "<style scoped>\n",
       "    .dataframe tbody tr th:only-of-type {\n",
       "        vertical-align: middle;\n",
       "    }\n",
       "\n",
       "    .dataframe tbody tr th {\n",
       "        vertical-align: top;\n",
       "    }\n",
       "\n",
       "    .dataframe thead th {\n",
       "        text-align: right;\n",
       "    }\n",
       "</style>\n",
       "<table border=\"1\" class=\"dataframe\">\n",
       "  <thead>\n",
       "    <tr style=\"text-align: right;\">\n",
       "      <th></th>\n",
       "      <th>title_length</th>\n",
       "    </tr>\n",
       "  </thead>\n",
       "  <tbody>\n",
       "    <tr>\n",
       "      <th>count</th>\n",
       "      <td>5825.000000</td>\n",
       "    </tr>\n",
       "    <tr>\n",
       "      <th>mean</th>\n",
       "      <td>46.488584</td>\n",
       "    </tr>\n",
       "    <tr>\n",
       "      <th>std</th>\n",
       "      <td>31.044869</td>\n",
       "    </tr>\n",
       "    <tr>\n",
       "      <th>min</th>\n",
       "      <td>2.000000</td>\n",
       "    </tr>\n",
       "    <tr>\n",
       "      <th>25%</th>\n",
       "      <td>27.000000</td>\n",
       "    </tr>\n",
       "    <tr>\n",
       "      <th>50%</th>\n",
       "      <td>39.000000</td>\n",
       "    </tr>\n",
       "    <tr>\n",
       "      <th>75%</th>\n",
       "      <td>58.000000</td>\n",
       "    </tr>\n",
       "    <tr>\n",
       "      <th>max</th>\n",
       "      <td>304.000000</td>\n",
       "    </tr>\n",
       "  </tbody>\n",
       "</table>\n",
       "</div>"
      ],
      "text/plain": [
       "       title_length\n",
       "count   5825.000000\n",
       "mean      46.488584\n",
       "std       31.044869\n",
       "min        2.000000\n",
       "25%       27.000000\n",
       "50%       39.000000\n",
       "75%       58.000000\n",
       "max      304.000000"
      ]
     },
     "execution_count": 16,
     "metadata": {},
     "output_type": "execute_result"
    }
   ],
   "source": [
    "df_dog.describe()"
   ]
  },
  {
   "cell_type": "markdown",
   "id": "7d7de8be-e6db-4c3d-bb67-c9bbf957d9cf",
   "metadata": {},
   "source": [
    "> ### Cats have longer average post lengths than dogs."
   ]
  },
  {
   "cell_type": "markdown",
   "id": "d17ba3d8-ad2d-4dda-838e-4fd72c7f67d1",
   "metadata": {},
   "source": [
    "# Word Counts by Vectorize the text"
   ]
  },
  {
   "cell_type": "markdown",
   "id": "3a2321e7-977f-492f-8757-a9de909b62ab",
   "metadata": {},
   "source": [
    "## Most common words by CountVectorizer"
   ]
  },
  {
   "cell_type": "markdown",
   "id": "bf81fa5f-d867-4382-af49-4624161746e1",
   "metadata": {},
   "source": [
    "- ### Cats"
   ]
  },
  {
   "cell_type": "code",
   "execution_count": 17,
   "id": "cde18f00-71af-45ef-8e1e-be06c689c801",
   "metadata": {},
   "outputs": [],
   "source": [
    "cvec = CountVectorizer(stop_words='english')\n",
    "cvec.fit(df_cat['title'])\n",
    "status_cvec = cvec.transform(df_cat['title'])\n",
    "cat_cvec = pd.DataFrame(status_cvec.toarray(), columns=cvec.get_feature_names_out())"
   ]
  },
  {
   "cell_type": "code",
   "execution_count": 18,
   "id": "fb2b7d6e-ab76-4bc5-ab1e-9ecbde8f4956",
   "metadata": {},
   "outputs": [
    {
     "data": {
      "text/plain": [
       "cat       1795\n",
       "cats       441\n",
       "just       271\n",
       "like       258\n",
       "little     217\n",
       "old        203\n",
       "does       189\n",
       "kitten     181\n",
       "help       167\n",
       "got        163\n",
       "know       162\n",
       "new        160\n",
       "kitty      157\n",
       "love       155\n",
       "boy        137\n",
       "dtype: int64"
      ]
     },
     "execution_count": 18,
     "metadata": {},
     "output_type": "execute_result"
    }
   ],
   "source": [
    "cat_cvec.sum(axis=0).sort_values(ascending=False).head(15)"
   ]
  },
  {
   "cell_type": "code",
   "execution_count": 19,
   "id": "f093226e-3682-4743-98de-4556f5ce8f3c",
   "metadata": {},
   "outputs": [
    {
     "data": {
      "image/png": "[encoded data removed]",
      "text/plain": [
       "<Figure size 640x480 with 1 Axes>"
      ]
     },
     "metadata": {},
     "output_type": "display_data"
    }
   ],
   "source": [
    "cat_cvec.sum(axis=0).sort_values(ascending=False).head(15).plot(kind='bar')\n",
    "plt.title('Cats: Frequency of the 15 most common words')\n",
    "plt.xlabel('Word')\n",
    "plt.ylabel('Count');"
   ]
  },
  {
   "cell_type": "markdown",
   "id": "e9e71b5a-e6b4-45c1-b075-32431d1ce2b5",
   "metadata": {},
   "source": [
    "- ### Dogs"
   ]
  },
  {
   "cell_type": "code",
   "execution_count": 20,
   "id": "a43b96f8-1720-4671-ba3e-d166f43eed0b",
   "metadata": {},
   "outputs": [],
   "source": [
    "cvec = CountVectorizer(stop_words='english')\n",
    "cvec.fit(df_dog['title'])\n",
    "status_cvec = cvec.transform(df_dog['title'])\n",
    "dog_cvec = pd.DataFrame(status_cvec.toarray(), columns=cvec.get_feature_names_out())"
   ]
  },
  {
   "cell_type": "code",
   "execution_count": 21,
   "id": "c1a75fbf-109d-47f0-b658-3de4347fce43",
   "metadata": {},
   "outputs": [
    {
     "data": {
      "text/plain": [
       "dog       3045\n",
       "dogs       598\n",
       "help       454\n",
       "puppy      332\n",
       "advice     282\n",
       "old        240\n",
       "need       223\n",
       "does       171\n",
       "food       168\n",
       "new        158\n",
       "time       150\n",
       "breed      144\n",
       "best       127\n",
       "know       123\n",
       "just       119\n",
       "dtype: int64"
      ]
     },
     "execution_count": 21,
     "metadata": {},
     "output_type": "execute_result"
    }
   ],
   "source": [
    "dog_cvec.sum(axis=0).sort_values(ascending=False).head(15)"
   ]
  },
  {
   "cell_type": "code",
   "execution_count": 22,
   "id": "68edfdca-c11e-4d75-91e1-a47444307722",
   "metadata": {},
   "outputs": [
    {
     "data": {
      "image/png": "[encoded data removed]",
      "text/plain": [
       "<Figure size 640x480 with 1 Axes>"
      ]
     },
     "metadata": {},
     "output_type": "display_data"
    }
   ],
   "source": [
    "dog_cvec.sum(axis=0).sort_values(ascending=False).head(15).plot(kind='bar')\n",
    "plt.title('Dogs: Frequency of the 15 most common words')\n",
    "plt.xlabel('Word')\n",
    "plt.ylabel('Count');"
   ]
  },
  {
   "cell_type": "markdown",
   "id": "3ef006b6-18cf-4f9c-b830-925eb62bd18a",
   "metadata": {},
   "source": [
    "## Most common bigrams by CountVectorizer"
   ]
  },
  {
   "cell_type": "markdown",
   "id": "c62ed5be-2a2f-48db-9ae5-2d0f4ae8814a",
   "metadata": {},
   "source": [
    "- ### Cats"
   ]
  },
  {
   "cell_type": "code",
   "execution_count": 23,
   "id": "d7a2907b-1465-4859-901d-7eb9c67dfeaf",
   "metadata": {},
   "outputs": [],
   "source": [
    "cvec = CountVectorizer(ngram_range=(2,2), stop_words='english')\n",
    "cvec.fit(df_cat['title'])\n",
    "cat_cvec = cvec.transform(df_cat['title'])\n",
    "cat_cvec = pd.DataFrame(cat_cvec.toarray(), columns=cvec.get_feature_names_out())"
   ]
  },
  {
   "cell_type": "code",
   "execution_count": 24,
   "id": "bb6e5714-42da-4027-bc06-b041bd056aa4",
   "metadata": {},
   "outputs": [
    {
     "data": {
      "text/plain": [
       "does cat       63\n",
       "year old       49\n",
       "month old      33\n",
       "don know       33\n",
       "old cat        30\n",
       "does know      30\n",
       "need advice    25\n",
       "new cat        24\n",
       "help cat       22\n",
       "years old      21\n",
       "stray cat      21\n",
       "months old     20\n",
       "looks like     20\n",
       "litter box     18\n",
       "new kitten     18\n",
       "dtype: int64"
      ]
     },
     "execution_count": 24,
     "metadata": {},
     "output_type": "execute_result"
    }
   ],
   "source": [
    "cat_cvec.sum(axis=0).sort_values(ascending=False).head(15)"
   ]
  },
  {
   "cell_type": "code",
   "execution_count": 25,
   "id": "dfc4a14a-26ff-4b1a-b6d9-5b77259f9762",
   "metadata": {},
   "outputs": [
    {
     "data": {
      "image/png": "[encoded data removed]",
      "text/plain": [
       "<Figure size 640x480 with 1 Axes>"
      ]
     },
     "metadata": {},
     "output_type": "display_data"
    }
   ],
   "source": [
    "cat_cvec.sum(axis=0).sort_values(ascending=False).head(15).plot(kind='bar')\n",
    "plt.title('Cats: Frequency of the 15 most bigrams words')\n",
    "plt.xlabel('Word')\n",
    "plt.ylabel('Count');"
   ]
  },
  {
   "cell_type": "markdown",
   "id": "584603ea-e7bf-4ef3-a1dd-61e0614e5b7b",
   "metadata": {},
   "source": [
    "- ### Dogs"
   ]
  },
  {
   "cell_type": "code",
   "execution_count": 26,
   "id": "b8e3af44-c3a9-43cd-b42e-1f5fbe477c78",
   "metadata": {},
   "outputs": [],
   "source": [
    "cvec = CountVectorizer(ngram_range=(2,2), stop_words='english')\n",
    "cvec.fit(df_dog['title'])\n",
    "dog_cvec = cvec.transform(df_dog['title'])\n",
    "dog_cvec = pd.DataFrame(dog_cvec.toarray(), columns=cvec.get_feature_names_out())"
   ]
  },
  {
   "cell_type": "code",
   "execution_count": 27,
   "id": "623ba48c-02b8-4aa1-b015-d50fcbf706a5",
   "metadata": {},
   "outputs": [
    {
     "data": {
      "text/plain": [
       "year old       95\n",
       "need advice    75\n",
       "does dog       71\n",
       "help dog       69\n",
       "need help      60\n",
       "old dog        57\n",
       "dog food       46\n",
       "dog ate        45\n",
       "month old      45\n",
       "don know       43\n",
       "new dog        42\n",
       "dog breed      38\n",
       "dog won        36\n",
       "daily bark     35\n",
       "dog keeps      34\n",
       "dtype: int64"
      ]
     },
     "execution_count": 27,
     "metadata": {},
     "output_type": "execute_result"
    }
   ],
   "source": [
    "dog_cvec.sum(axis=0).sort_values(ascending=False).head(15)"
   ]
  },
  {
   "cell_type": "code",
   "execution_count": 28,
   "id": "4cf11ecd-72e9-4124-acae-8967e470d7cf",
   "metadata": {},
   "outputs": [
    {
     "data": {
      "image/png": "[encoded data removed]",
      "text/plain": [
       "<Figure size 640x480 with 1 Axes>"
      ]
     },
     "metadata": {},
     "output_type": "display_data"
    }
   ],
   "source": [
    "dog_cvec.sum(axis=0).sort_values(ascending=False).head(15).plot(kind='bar')\n",
    "plt.title('Dogs: Frequency of the 15 most bigrams words')\n",
    "plt.xlabel('Word')\n",
    "plt.ylabel('Count');"
   ]
  },
  {
   "cell_type": "markdown",
   "id": "43adf486-b186-48b1-b5b2-109d57101fcf",
   "metadata": {},
   "source": [
    "## Most common words by Lemmatizing"
   ]
  },
  {
   "cell_type": "markdown",
   "id": "265741bc-16e5-4c2a-8a26-d380c777e3ef",
   "metadata": {},
   "source": [
    "- ### Cat"
   ]
  },
  {
   "cell_type": "code",
   "execution_count": 29,
   "id": "92e935f4-26e0-4215-aaf1-ecfbf69aff6e",
   "metadata": {},
   "outputs": [],
   "source": [
    "def preprocessor(text):\n",
    "    text = text.lower()\n",
    "    text = re.sub(\"ha\", \"\", text)\n",
    "    text = re.sub(\"le\", \"\", text)\n",
    "    text = re.sub(\"wa\", \"\", text)\n",
    "    return text\n",
    "# got this from Maria'a hackathon group code"
   ]
  },
  {
   "cell_type": "code",
   "execution_count": 30,
   "id": "2ab62316-4f04-4790-87ae-5d723a80f213",
   "metadata": {},
   "outputs": [
    {
     "name": "stderr",
     "output_type": "stream",
     "text": [
      "/Users/atigon/opt/anaconda3/lib/python3.9/site-packages/sklearn/feature_extraction/text.py:516: UserWarning: The parameter 'token_pattern' will not be used since 'tokenizer' is not None'\n",
      "  warnings.warn(\n",
      "/Users/atigon/opt/anaconda3/lib/python3.9/site-packages/sklearn/feature_extraction/text.py:396: UserWarning: Your stop_words may be inconsistent with your preprocessing. Tokenizing the stop words generated tokens ['afterrds', 'alys', 'anyy', 'ast', 'beforend', 'meanwhi', 'neverthess', 'pase', 'perps', 'snt', 'tord', 'tords', 'whi', 'wtever'] not in stop_words.\n",
      "  warnings.warn(\n"
     ]
    }
   ],
   "source": [
    "cvec = CountVectorizer(\n",
    "    stop_words='english', \n",
    "    tokenizer=LemmaTokenizer(),\n",
    "    preprocessor=preprocessor\n",
    ")\n",
    "cvec.fit(df_cat['title'])\n",
    "cat_cvec = cvec.transform(df_cat['title'])\n",
    "cat_cvec = pd.DataFrame(cat_cvec.toarray(), columns=cvec.get_feature_names_out())"
   ]
  },
  {
   "cell_type": "code",
   "execution_count": 31,
   "id": "13701112-26a3-480f-ae6d-daf1252a4edc",
   "metadata": {},
   "outputs": [
    {
     "data": {
      "text/plain": [
       "cat       2198\n",
       "like       312\n",
       "just       270\n",
       "kitten     244\n",
       "love       239\n",
       "litt       216\n",
       "doe        209\n",
       "old        199\n",
       "year       180\n",
       "know       175\n",
       "got        171\n",
       "kitty      170\n",
       "help       169\n",
       "new        160\n",
       "day        150\n",
       "dtype: int64"
      ]
     },
     "execution_count": 31,
     "metadata": {},
     "output_type": "execute_result"
    }
   ],
   "source": [
    "cat_cvec.sum(axis=0).sort_values(ascending=False).head(15)"
   ]
  },
  {
   "cell_type": "code",
   "execution_count": 32,
   "id": "943bd983-2a36-446e-a109-5ee102e5f507",
   "metadata": {},
   "outputs": [
    {
     "data": {
      "image/png": "[encoded data removed]",
      "text/plain": [
       "<Figure size 640x480 with 1 Axes>"
      ]
     },
     "metadata": {},
     "output_type": "display_data"
    }
   ],
   "source": [
    "cat_cvec.sum(axis=0).sort_values(ascending=False).head(15).plot(kind='bar')\n",
    "plt.title('Cats: Frequency of the 15 most lemmatizing words')\n",
    "plt.xlabel('Word')\n",
    "plt.ylabel('Count');"
   ]
  },
  {
   "cell_type": "markdown",
   "id": "d62818ec-8504-4f49-aa79-e796d7e48d70",
   "metadata": {},
   "source": [
    "- ### Dog"
   ]
  },
  {
   "cell_type": "code",
   "execution_count": 33,
   "id": "cf287e63-1e2e-4f9d-a534-36e566c7de30",
   "metadata": {},
   "outputs": [
    {
     "name": "stderr",
     "output_type": "stream",
     "text": [
      "/Users/atigon/opt/anaconda3/lib/python3.9/site-packages/sklearn/feature_extraction/text.py:516: UserWarning: The parameter 'token_pattern' will not be used since 'tokenizer' is not None'\n",
      "  warnings.warn(\n",
      "/Users/atigon/opt/anaconda3/lib/python3.9/site-packages/sklearn/feature_extraction/text.py:396: UserWarning: Your stop_words may be inconsistent with your preprocessing. Tokenizing the stop words generated tokens ['afterrds', 'alys', 'anyy', 'ast', 'beforend', 'meanwhi', 'neverthess', 'pase', 'perps', 'snt', 'tord', 'tords', 'whi', 'wtever'] not in stop_words.\n",
      "  warnings.warn(\n"
     ]
    }
   ],
   "source": [
    "cvec = CountVectorizer(\n",
    "    stop_words='english', \n",
    "    tokenizer=LemmaTokenizer(),\n",
    "    preprocessor=preprocessor\n",
    ")\n",
    "cvec.fit(df_dog['title'])\n",
    "dog_cvec = cvec.transform(df_dog['title'])\n",
    "dog_cvec = pd.DataFrame(dog_cvec.toarray(), columns=cvec.get_feature_names_out())"
   ]
  },
  {
   "cell_type": "code",
   "execution_count": 34,
   "id": "8a82c346-72e4-4160-8f55-5b9ad34653dc",
   "metadata": {},
   "outputs": [
    {
     "data": {
      "text/plain": [
       "dog       3618\n",
       "help       450\n",
       "puppy      367\n",
       "advice     270\n",
       "need       247\n",
       "old        231\n",
       "breed      228\n",
       "doe        184\n",
       "food       173\n",
       "new        158\n",
       "time       157\n",
       "year       139\n",
       "know       126\n",
       "best       125\n",
       "like       122\n",
       "dtype: int64"
      ]
     },
     "execution_count": 34,
     "metadata": {},
     "output_type": "execute_result"
    }
   ],
   "source": [
    "dog_cvec.sum(axis=0).sort_values(ascending=False).head(15)"
   ]
  },
  {
   "cell_type": "code",
   "execution_count": 35,
   "id": "d344ec89-fbcf-4d16-a38c-0b7deedb443d",
   "metadata": {},
   "outputs": [
    {
     "data": {
      "image/png": "[encoded data removed]",
      "text/plain": [
       "<Figure size 640x480 with 1 Axes>"
      ]
     },
     "metadata": {},
     "output_type": "display_data"
    }
   ],
   "source": [
    "dog_cvec.sum(axis=0).sort_values(ascending=False).head(15).plot(kind='bar')\n",
    "plt.title('Dogs: Frequency of the 15 most lemmatizing words')\n",
    "plt.xlabel('Word')\n",
    "plt.ylabel('Count');"
   ]
  },
  {
   "cell_type": "markdown",
   "id": "9499f4f4-998c-4383-a702-2aa97de91455",
   "metadata": {},
   "source": [
    "## Most common words by Stemming"
   ]
  },
  {
   "cell_type": "markdown",
   "id": "0fffa703-6672-415a-95e0-2f509b41f8d9",
   "metadata": {},
   "source": [
    "- ### Cats"
   ]
  },
  {
   "cell_type": "code",
   "execution_count": 36,
   "id": "6df0c37c-3211-4c15-aa79-7ea7b120ecec",
   "metadata": {},
   "outputs": [],
   "source": [
    "cvec = StemmedCountVectorizer(stop_words='english')\n",
    "cvec.fit(df_cat['title'])\n",
    "cat_cvec = cvec.transform(df_cat['title'])\n",
    "cat_cvec = pd.DataFrame(cat_cvec.toarray(), columns=cvec.get_feature_names_out())"
   ]
  },
  {
   "cell_type": "code",
   "execution_count": 37,
   "id": "26080ccb-29f3-4b8e-82c5-f5d46bc6c2ec",
   "metadata": {},
   "outputs": [
    {
     "data": {
      "text/plain": [
       "cat       2237\n",
       "like       314\n",
       "love       282\n",
       "just       271\n",
       "kitten     251\n",
       "littl      217\n",
       "old        203\n",
       "look       196\n",
       "doe        189\n",
       "help       185\n",
       "year       182\n",
       "know       180\n",
       "kitti      178\n",
       "sleep      169\n",
       "want       165\n",
       "dtype: int64"
      ]
     },
     "execution_count": 37,
     "metadata": {},
     "output_type": "execute_result"
    }
   ],
   "source": [
    "cat_cvec.sum(axis=0).sort_values(ascending=False).head(15)"
   ]
  },
  {
   "cell_type": "code",
   "execution_count": 38,
   "id": "9727705d-f555-4a23-bfda-b95bd80a606f",
   "metadata": {},
   "outputs": [
    {
     "data": {
      "image/png": "[encoded data removed]",
      "text/plain": [
       "<Figure size 640x480 with 1 Axes>"
      ]
     },
     "metadata": {},
     "output_type": "display_data"
    }
   ],
   "source": [
    "cat_cvec.sum(axis=0).sort_values(ascending=False).head(15).plot(kind='bar')\n",
    "plt.title('Cats: Frequency of the 15 most stemming words')\n",
    "plt.xlabel('Word')\n",
    "plt.ylabel('Count');"
   ]
  },
  {
   "cell_type": "markdown",
   "id": "364ec05b-8cfa-40eb-89e3-6421479f7238",
   "metadata": {},
   "source": [
    "- ### Dogs"
   ]
  },
  {
   "cell_type": "code",
   "execution_count": 39,
   "id": "fd2d0000-a673-4ab3-a2f1-9b52db68852e",
   "metadata": {},
   "outputs": [],
   "source": [
    "cvec = StemmedCountVectorizer(stop_words='english')\n",
    "cvec.fit(df_dog['title'])\n",
    "dog_cvec = cvec.transform(df_dog['title'])\n",
    "dog_cvec = pd.DataFrame(dog_cvec.toarray(), columns=cvec.get_feature_names_out())"
   ]
  },
  {
   "cell_type": "code",
   "execution_count": 40,
   "id": "b193263e-de68-47f1-be45-24fba4b7d69a",
   "metadata": {},
   "outputs": [
    {
     "data": {
      "text/plain": [
       "dog      3643\n",
       "help      474\n",
       "puppi     374\n",
       "advic     284\n",
       "need      280\n",
       "old       241\n",
       "breed     235\n",
       "food      177\n",
       "doe       171\n",
       "time      165\n",
       "new       158\n",
       "year      147\n",
       "train     144\n",
       "know      134\n",
       "like      130\n",
       "dtype: int64"
      ]
     },
     "execution_count": 40,
     "metadata": {},
     "output_type": "execute_result"
    }
   ],
   "source": [
    "dog_cvec.sum(axis=0).sort_values(ascending=False).head(15)"
   ]
  },
  {
   "cell_type": "code",
   "execution_count": 41,
   "id": "2afe829d-0760-4bca-9be1-83fdf038eb6f",
   "metadata": {},
   "outputs": [
    {
     "data": {
      "image/png": "[encoded data removed]",
      "text/plain": [
       "<Figure size 640x480 with 1 Axes>"
      ]
     },
     "metadata": {},
     "output_type": "display_data"
    }
   ],
   "source": [
    "dog_cvec.sum(axis=0).sort_values(ascending=False).head(15).plot(kind='bar')\n",
    "plt.title('Dogs: Frequency of the 15 most stemming words')\n",
    "plt.xlabel('Word')\n",
    "plt.ylabel('Count');"
   ]
  },
  {
   "cell_type": "markdown",
   "id": "af1aec0d-4ae4-41f2-accd-a473872ac280",
   "metadata": {},
   "source": [
    "## Emoji explore"
   ]
  },
  {
   "cell_type": "markdown",
   "id": "796fcf2c-f1e8-44e3-ae42-ec7eeedcd366",
   "metadata": {},
   "source": [
    "- ### Cats"
   ]
  },
  {
   "cell_type": "code",
   "execution_count": 42,
   "id": "916547a1-0d91-41d0-a1c5-239409cb2a2a",
   "metadata": {},
   "outputs": [
    {
     "name": "stdout",
     "output_type": "stream",
     "text": [
      "Total emoji = 1026\n"
     ]
    },
    {
     "data": {
      "text/plain": [
       "❤️     106\n",
       "😂       67\n",
       "🥰       49\n",
       "😍       47\n",
       "😻       45\n",
       "🐱       34\n",
       "🤣       32\n",
       "🐈‍⬛     25\n",
       "😭       25\n",
       "🖤       24\n",
       "dtype: int64"
      ]
     },
     "execution_count": 42,
     "metadata": {},
     "output_type": "execute_result"
    }
   ],
   "source": [
    "emoji_all = []\n",
    "for emoji in df_cat['title']:\n",
    "    if demoji.findall(emoji):\n",
    "        emoji_all.append(demoji.findall(emoji))\n",
    "\n",
    "emoji_list = []\n",
    "for e in emoji_all:\n",
    "    for i in e:\n",
    "        emoji_list.append(i)\n",
    "print('Total emoji =', len(emoji_list))\n",
    "\n",
    "df_emoji = pd.DataFrame([emoji_list]).T\n",
    "df_emoji.value_counts().head(10)\n",
    "\n",
    "# got this from https://www.geeksforgeeks.org/convert-emoji-into-text-in-python/\n",
    "# and this https://www.geeksforgeeks.org/python-accessing-key-value-in-dictionary/"
   ]
  },
  {
   "cell_type": "markdown",
   "id": "3161e70f-a87b-47d0-963b-7aa844ef5898",
   "metadata": {},
   "source": [
    "- ### Dogs"
   ]
  },
  {
   "cell_type": "code",
   "execution_count": 43,
   "id": "e840d074-bbc5-4496-a657-06c358d5756a",
   "metadata": {},
   "outputs": [
    {
     "name": "stdout",
     "output_type": "stream",
     "text": [
      "Total emoji = 56\n"
     ]
    },
    {
     "data": {
      "text/plain": [
       "❤️    10\n",
       "😭      4\n",
       "♥️     2\n",
       "💔      2\n",
       "🙏      2\n",
       "😬      2\n",
       "😞      2\n",
       "😍      2\n",
       "🐶      2\n",
       "🐕      2\n",
       "dtype: int64"
      ]
     },
     "execution_count": 43,
     "metadata": {},
     "output_type": "execute_result"
    }
   ],
   "source": [
    "emoji_all = []\n",
    "for emoji in df_dog['title']:\n",
    "    if demoji.findall(emoji):\n",
    "        emoji_all.append(demoji.findall(emoji))\n",
    "\n",
    "emoji_list = []\n",
    "for e in emoji_all:\n",
    "    for i in e:\n",
    "        emoji_list.append(i)\n",
    "print('Total emoji =', len(emoji_list))\n",
    "\n",
    "df_emoji = pd.DataFrame([emoji_list]).T\n",
    "df_emoji.value_counts().head(10)"
   ]
  },
  {
   "cell_type": "markdown",
   "id": "9d8a4283-2f2c-4d9d-b2c0-78217791cd22",
   "metadata": {},
   "source": [
    "> Cats people use emoji in total more than dogs people by 20 times!!!"
   ]
  },
  {
   "cell_type": "markdown",
   "id": "c49987a3-3447-49d0-acfc-af8270809ff5",
   "metadata": {},
   "source": [
    "## Sentimental Analysis"
   ]
  },
  {
   "cell_type": "code",
   "execution_count": 44,
   "id": "6a1f9354-db51-40d5-ac10-b02415fe2293",
   "metadata": {},
   "outputs": [],
   "source": [
    "sent = SentimentIntensityAnalyzer()"
   ]
  },
  {
   "cell_type": "code",
   "execution_count": 45,
   "id": "9a2885c5-7858-4f36-abc2-0e0073a534d0",
   "metadata": {},
   "outputs": [
    {
     "data": {
      "text/plain": [
       "0.12247002085505745"
      ]
     },
     "execution_count": 45,
     "metadata": {},
     "output_type": "execute_result"
    }
   ],
   "source": [
    "cat_sent = []\n",
    "for word in df_cat['title']:\n",
    "    cat_sent.append(sent.polarity_scores(word)['compound'])\n",
    "cat_compound = sum(cat_sent)/len(cat_sent)\n",
    "cat_compound"
   ]
  },
  {
   "cell_type": "code",
   "execution_count": 46,
   "id": "fe689ccb-9c4c-4b5a-94f0-b077e2a3ae58",
   "metadata": {},
   "outputs": [
    {
     "data": {
      "text/plain": [
       "0.02072212875536471"
      ]
     },
     "execution_count": 46,
     "metadata": {},
     "output_type": "execute_result"
    }
   ],
   "source": [
    "dog_sent = []\n",
    "for word in df_dog['title']:\n",
    "    dog_sent.append(sent.polarity_scores(word)['compound'])\n",
    "dog_compund = sum(dog_sent)/len(dog_sent)\n",
    "dog_compund"
   ]
  },
  {
   "cell_type": "markdown",
   "id": "db1a8174-e700-44d2-98d7-0d1aca174a48",
   "metadata": {},
   "source": [
    "> Cats people are happier than dogs people by 6 times!!!"
   ]
  },
  {
   "cell_type": "markdown",
   "id": "38cff81d-4e4b-4e8b-a07e-68a1b193cf59",
   "metadata": {},
   "source": [
    "## Prepare data and Save to csv for next step"
   ]
  },
  {
   "cell_type": "markdown",
   "id": "9354bc86-eb2a-48ee-a2c5-5d5a016a7c2f",
   "metadata": {},
   "source": [
    "Balance data by saving 4000 for each category"
   ]
  },
  {
   "cell_type": "code",
   "execution_count": 48,
   "id": "8ccbee19-f865-4ab6-a026-07f270c1b4f3",
   "metadata": {},
   "outputs": [
    {
     "data": {
      "text/plain": [
       "((5754, 3), (5825, 3))"
      ]
     },
     "execution_count": 48,
     "metadata": {},
     "output_type": "execute_result"
    }
   ],
   "source": [
    "df_cat.shape, df_dog.shape"
   ]
  },
  {
   "cell_type": "code",
   "execution_count": 49,
   "id": "d3e851bc-cdfa-41f3-9f23-55d81231376b",
   "metadata": {},
   "outputs": [],
   "source": [
    "# Balance data by , change category cat to 1 and DOG to 0\n",
    "df_nlp = pd.concat([df_cat[:5000], df_dog[:5000]], ignore_index=True).drop(columns='title_length')\n",
    "df_nlp['subreddit'] = df_nlp['subreddit'].map({'cats':1, 'dogs':0}) #1=cats, 0=dogs\n",
    "df_nlp.to_csv('../data/nlp_cat_dog.csv', index=False)"
   ]
  },
  {
   "cell_type": "markdown",
   "id": "79d9de84-7ad9-46ce-8ead-3960c5707bb2",
   "metadata": {},
   "source": [
    "### As seen from EDA, There are many similar words in cats and dogs, maybe it's hard to get a good modeling"
   ]
  },
  {
   "cell_type": "code",
   "execution_count": null,
   "id": "f204fcda-20e6-46e9-9cc5-800e8eedd01c",
   "metadata": {},
   "outputs": [],
   "source": []
  }
 ],
 "metadata": {
  "kernelspec": {
   "display_name": "Python 3 (ipykernel)",
   "language": "python",
   "name": "python3"
  },
  "language_info": {
   "codemirror_mode": {
    "name": "ipython",
    "version": 3
   },
   "file_extension": ".py",
   "mimetype": "text/x-python",
   "name": "python",
   "nbconvert_exporter": "python",
   "pygments_lexer": "ipython3",
   "version": "3.9.13"
  }
 },
 "nbformat": 4,
 "nbformat_minor": 5
}
