{
 "cells": [
  {
   "cell_type": "markdown",
   "id": "9b3caf31-90a3-49e2-a570-87e6d9181c20",
   "metadata": {},
   "source": [
    "# Project 3 : 2-EDA"
   ]
  },
  {
   "cell_type": "markdown",
   "id": "93f49139-6744-4673-ae4d-7ee253b7b8bf",
   "metadata": {},
   "source": [
    "## Problem statement"
   ]
  },
  {
   "cell_type": "markdown",
   "id": "a278c6e1-d298-4725-bcf4-05e6ff28c47e",
   "metadata": {},
   "source": [
    "> Create the model to predict where the given post came from between cat and dog post"
   ]
  },
  {
   "cell_type": "code",
   "execution_count": 46,
   "id": "d6d1af4c-6e99-4820-bf1b-6dd3d3753e25",
   "metadata": {},
   "outputs": [],
   "source": [
    "import pandas as pd\n",
    "import seaborn as sns\n",
    "import matplotlib.pyplot as plt\n",
    "from sklearn.feature_extraction.text import CountVectorizer"
   ]
  },
  {
   "cell_type": "markdown",
   "id": "5c8e97d9-2587-406e-9b78-ad99d7bb4bca",
   "metadata": {},
   "source": [
    "### Import Data from step 1"
   ]
  },
  {
   "cell_type": "code",
   "execution_count": 2,
   "id": "7a1c480f-e524-49d1-8f87-8077e9d9ced1",
   "metadata": {},
   "outputs": [
    {
     "data": {
      "text/plain": [
       "((5000, 2), (4999, 2))"
      ]
     },
     "execution_count": 2,
     "metadata": {},
     "output_type": "execute_result"
    }
   ],
   "source": [
    "df_cat = pd.read_csv('data/cat_all.csv')\n",
    "df_dog = pd.read_csv('data/dog_all.csv')\n",
    "df_cat.shape, df_dog.shape"
   ]
  },
  {
   "cell_type": "code",
   "execution_count": 3,
   "id": "11fd1793-317e-499f-9846-0b5d160655fe",
   "metadata": {},
   "outputs": [
    {
     "data": {
      "text/html": [
       "<div>\n",
       "<style scoped>\n",
       "    .dataframe tbody tr th:only-of-type {\n",
       "        vertical-align: middle;\n",
       "    }\n",
       "\n",
       "    .dataframe tbody tr th {\n",
       "        vertical-align: top;\n",
       "    }\n",
       "\n",
       "    .dataframe thead th {\n",
       "        text-align: right;\n",
       "    }\n",
       "</style>\n",
       "<table border=\"1\" class=\"dataframe\">\n",
       "  <thead>\n",
       "    <tr style=\"text-align: right;\">\n",
       "      <th></th>\n",
       "      <th>subreddit</th>\n",
       "      <th>title</th>\n",
       "    </tr>\n",
       "  </thead>\n",
       "  <tbody>\n",
       "    <tr>\n",
       "      <th>0</th>\n",
       "      <td>cat</td>\n",
       "      <td>🐱</td>\n",
       "    </tr>\n",
       "    <tr>\n",
       "      <th>1</th>\n",
       "      <td>cat</td>\n",
       "      <td>The “how is it only Wednesday?!” mood - 😄 (OC)</td>\n",
       "    </tr>\n",
       "    <tr>\n",
       "      <th>2</th>\n",
       "      <td>cat</td>\n",
       "      <td>The Most Wonderful Time Of Year</td>\n",
       "    </tr>\n",
       "    <tr>\n",
       "      <th>3</th>\n",
       "      <td>cat</td>\n",
       "      <td>My grumpy boy doesn’t like being cuddled.</td>\n",
       "    </tr>\n",
       "    <tr>\n",
       "      <th>4</th>\n",
       "      <td>cat</td>\n",
       "      <td>If I fits it sits!</td>\n",
       "    </tr>\n",
       "  </tbody>\n",
       "</table>\n",
       "</div>"
      ],
      "text/plain": [
       "  subreddit                                           title\n",
       "0       cat                                               🐱\n",
       "1       cat  The “how is it only Wednesday?!” mood - 😄 (OC)\n",
       "2       cat                 The Most Wonderful Time Of Year\n",
       "3       cat       My grumpy boy doesn’t like being cuddled.\n",
       "4       cat                              If I fits it sits!"
      ]
     },
     "execution_count": 3,
     "metadata": {},
     "output_type": "execute_result"
    }
   ],
   "source": [
    "df_cat.head()"
   ]
  },
  {
   "cell_type": "code",
   "execution_count": 4,
   "id": "7bb4c1e2-3450-4d4d-9495-078ba3677c13",
   "metadata": {},
   "outputs": [
    {
     "data": {
      "text/html": [
       "<div>\n",
       "<style scoped>\n",
       "    .dataframe tbody tr th:only-of-type {\n",
       "        vertical-align: middle;\n",
       "    }\n",
       "\n",
       "    .dataframe tbody tr th {\n",
       "        vertical-align: top;\n",
       "    }\n",
       "\n",
       "    .dataframe thead th {\n",
       "        text-align: right;\n",
       "    }\n",
       "</style>\n",
       "<table border=\"1\" class=\"dataframe\">\n",
       "  <thead>\n",
       "    <tr style=\"text-align: right;\">\n",
       "      <th></th>\n",
       "      <th>subreddit</th>\n",
       "      <th>title</th>\n",
       "    </tr>\n",
       "  </thead>\n",
       "  <tbody>\n",
       "    <tr>\n",
       "      <th>0</th>\n",
       "      <td>DOG</td>\n",
       "      <td>Dog got quilled by porcupine, now has cellulit...</td>\n",
       "    </tr>\n",
       "    <tr>\n",
       "      <th>1</th>\n",
       "      <td>DOG</td>\n",
       "      <td>Moved to a new house with a significantly bigg...</td>\n",
       "    </tr>\n",
       "    <tr>\n",
       "      <th>2</th>\n",
       "      <td>DOG</td>\n",
       "      <td>PLEASE HELP THESE DOGS! 🙏🏻❤️🥹</td>\n",
       "    </tr>\n",
       "    <tr>\n",
       "      <th>3</th>\n",
       "      <td>DOG</td>\n",
       "      <td>lil tongue poking out</td>\n",
       "    </tr>\n",
       "    <tr>\n",
       "      <th>4</th>\n",
       "      <td>DOG</td>\n",
       "      <td>via: @agea_santos</td>\n",
       "    </tr>\n",
       "  </tbody>\n",
       "</table>\n",
       "</div>"
      ],
      "text/plain": [
       "  subreddit                                              title\n",
       "0       DOG  Dog got quilled by porcupine, now has cellulit...\n",
       "1       DOG  Moved to a new house with a significantly bigg...\n",
       "2       DOG                      PLEASE HELP THESE DOGS! 🙏🏻❤️🥹\n",
       "3       DOG                              lil tongue poking out\n",
       "4       DOG                                  via: @agea_santos"
      ]
     },
     "execution_count": 4,
     "metadata": {},
     "output_type": "execute_result"
    }
   ],
   "source": [
    "df_dog.head()"
   ]
  },
  {
   "cell_type": "markdown",
   "id": "de43dfdc-89fc-4c9e-9e14-35a2fefc1e67",
   "metadata": {},
   "source": [
    "### EDA"
   ]
  },
  {
   "cell_type": "markdown",
   "id": "a2426536-3113-4924-8d68-0e48cb7410f4",
   "metadata": {},
   "source": [
    "#### Check subreddit category"
   ]
  },
  {
   "cell_type": "code",
   "execution_count": 5,
   "id": "f80f8a22-9f7c-44b9-b47b-38544dd74ac6",
   "metadata": {
    "scrolled": true,
    "tags": []
   },
   "outputs": [
    {
     "data": {
      "text/plain": [
       "({'cat',\n",
       "  'u_-Tux-cat-',\n",
       "  'u_Accomplished-Cat-167',\n",
       "  'u_Accomplished-Cat-619',\n",
       "  'u_Advanced-Cat-876',\n",
       "  'u_Adventurous-Cat-3616',\n",
       "  'u_Affectionate-Cat-873',\n",
       "  'u_Aggravating-Cat-8346',\n",
       "  'u_Alternative-Cat-4173',\n",
       "  'u_Apprehensive-Cat-709',\n",
       "  'u_Available-Cat-7440',\n",
       "  'u_Background-Cat-1512',\n",
       "  'u_Beneficial-Cat-7203',\n",
       "  'u_Big-Cat-5589',\n",
       "  'u_Brilliant-Cat-1588',\n",
       "  'u_Brilliant-Cat-6096',\n",
       "  'u_Carl-the-reddit-cat',\n",
       "  'u_Coder-Cat',\n",
       "  'u_Comfortable-Cat-9396',\n",
       "  'u_Competitive-Cat-7134',\n",
       "  'u_Creepy-Cat-8796',\n",
       "  'u_Cute-Sissy-Cat',\n",
       "  'u_Dull-Cat-2998',\n",
       "  'u_Eastern-Cat-1199',\n",
       "  'u_Eastern-Cat-523',\n",
       "  'u_Educational-Cat-7560',\n",
       "  'u_Effective-Cat-4210',\n",
       "  'u_Electrical-Cat-4725',\n",
       "  'u_Embarrassed-Cat-3071',\n",
       "  'u_Emotional-Cat-4336',\n",
       "  'u_Euphoric-Cat-7461',\n",
       "  'u_Excellent-Cat-7021',\n",
       "  'u_Exciting-Cat-4606',\n",
       "  'u_Far-Cat-6124',\n",
       "  'u_Flimsy-Cat-6555',\n",
       "  'u_Fun-Cat-3028',\n",
       "  'u_Glass-Cat-66',\n",
       "  'u_Gloomy-Cat-735',\n",
       "  'u_Gullible-Cat-2299',\n",
       "  'u_Hairy-Cat-2754',\n",
       "  'u_Hefty-Cat-868',\n",
       "  'u_Historical-Cat-2482',\n",
       "  'u_Historical-Cat-7661',\n",
       "  'u_Honest-the-Cat-129',\n",
       "  'u_Impossible-Cat-4870',\n",
       "  'u_Independent-Cat-441',\n",
       "  'u_Insert-Cat-Here',\n",
       "  'u_Intelligent-Cat-6330',\n",
       "  'u_Intrepid-Cat-6787',\n",
       "  'u_Key-Cat-7400',\n",
       "  'u_Kitchen-Cat-5428',\n",
       "  'u_Kitty-Cat-Katie',\n",
       "  'u_Kitty-cat-hannah',\n",
       "  'u_Leading-Cat-1333',\n",
       "  'u_Local-Cat-6673',\n",
       "  'u_Longjumping-Cat-7225',\n",
       "  'u_Loose-Cat-8456',\n",
       "  'u_Loud-Cat-3452',\n",
       "  'u_Marvelous-Cat-19',\n",
       "  'u_Mister-man-the-cat',\n",
       "  'u_My-cat-is-not-fat-91',\n",
       "  'u_Necessary-Cat-8991',\n",
       "  'u_Nika-the-Cat',\n",
       "  'u_Nine-Lives-Cat',\n",
       "  'u_No-Cat-8565',\n",
       "  'u_Objective-Cat-8167',\n",
       "  'u_Ok-Cat-7075',\n",
       "  'u_Organic-Cat-6073',\n",
       "  'u_Overall-Cat-5398',\n",
       "  'u_Own-Cat-6555',\n",
       "  'u_Playful-Cat-2647',\n",
       "  'u_Prestigious-Cat-5411',\n",
       "  'u_Real-Cat-8219',\n",
       "  'u_Realistic-Cat-4113',\n",
       "  'u_Resident-Cat-1940',\n",
       "  'u_Responsible-Cat-4426',\n",
       "  'u_Responsible-Cat-5030',\n",
       "  'u_SNOOP-CAT-6969',\n",
       "  'u_Shoddy-Cat-7914',\n",
       "  'u_Suitable-Cat-7420',\n",
       "  'u_Swimming-Cat-2152',\n",
       "  'u_Tight-Cat-1497',\n",
       "  'u_Tiny-Cat-8791',\n",
       "  'u_Top-Cat-9690',\n",
       "  'u_Totallynot-Cat',\n",
       "  'u_Unlucky-Cat-',\n",
       "  'u_Valuable-Cat-1150',\n",
       "  'u_Wanting-Cat-Girls',\n",
       "  'u_Zealousideal-Cat-733',\n",
       "  'u_Zealousideal-Cat-951',\n",
       "  'u_danger-cat-yyc',\n",
       "  'u_fat-bird-soup-cat',\n",
       "  'u_hug-a-cat',\n",
       "  'u_kinky-kathy-cat',\n",
       "  'u_loli-cat',\n",
       "  'u_playful-kitty-cat',\n",
       "  'u_scratch-cat',\n",
       "  'u_skat-the-cat',\n",
       "  'u_the-cat-animetor',\n",
       "  'u_the-cutest-cat',\n",
       "  'u_the-only-cat',\n",
       "  'u_xmoon-cat'},\n",
       " {'DOG',\n",
       "  'u_Accomplished-Dog-187',\n",
       "  'u_Accomplished-Dog-596',\n",
       "  'u_Additional-Dog-4436',\n",
       "  'u_Adventurous-Dog-1890',\n",
       "  'u_Adventurous-Dog-5724',\n",
       "  'u_Agreeable-Dog-7333',\n",
       "  'u_Altruistic-Dog-6336',\n",
       "  'u_Appropriate-Dog-3764',\n",
       "  'u_Appropriate-Dog-4895',\n",
       "  'u_Brief-Dog-602',\n",
       "  'u_Capital-Dog-2712',\n",
       "  'u_Clear-Dog-100',\n",
       "  'u_Comfortable-Dog-2694',\n",
       "  'u_Comfortable-Dog-4020',\n",
       "  'u_Complete-Dog-2367',\n",
       "  'u_Comrad-Dog',\n",
       "  'u_Consistent-Dog-8972',\n",
       "  'u_Delicious-Hot-Dog',\n",
       "  'u_Educational-Dog-3431',\n",
       "  'u_Electronic-Dog-7338',\n",
       "  'u_Extension-Dog-2038',\n",
       "  'u_Extension-Dog-2633',\n",
       "  'u_Fragrant-Dog-7971',\n",
       "  'u_Icy-Dog-6824',\n",
       "  'u_Illustrious-Dog-9670',\n",
       "  'u_Important-Dog-7192',\n",
       "  'u_Independent-Dog-4215',\n",
       "  'u_Inevitable-Dog-805',\n",
       "  'u_Inevitable-Dog-9896',\n",
       "  'u_Longjumping-Dog-6762',\n",
       "  'u_Maleficent-Dog-8859',\n",
       "  'u_Massive-Dog-631',\n",
       "  'u_Next-Dog-7669',\n",
       "  'u_No-Dog-3353',\n",
       "  'u_No-Dog-8314',\n",
       "  'u_Ok-Dog-3178',\n",
       "  'u_Optimal-Dog-906',\n",
       "  'u_Original-Dog-8986',\n",
       "  'u_Own-Dog-4950',\n",
       "  'u_Penna-blind-dog',\n",
       "  'u_Plastic-Dog-2095',\n",
       "  'u_Pretend-Dog-7739',\n",
       "  'u_Puzzleheaded-Dog-73',\n",
       "  'u_Remarkable-Dog-4040',\n",
       "  'u_Responsible-Dog-424',\n",
       "  'u_Responsible-Dog-4676',\n",
       "  'u_SEGA-DOG',\n",
       "  'u_Shasta-dog',\n",
       "  'u_Signal-Dog-155',\n",
       "  'u_Significant-Dog-9119',\n",
       "  'u_Some-Dog-2552',\n",
       "  'u_Straight-Dog-3016',\n",
       "  'u_Sufficient-Dog-4772',\n",
       "  'u_Suspicious-Dog-8388',\n",
       "  'u_Tommy-dog-3819',\n",
       "  'u_True-Dog-1337',\n",
       "  'u_What-da-dog-doing',\n",
       "  'u_Wild-Dog-7360',\n",
       "  'u_Zestyclose-Dog-4679',\n",
       "  'u_discord-dog',\n",
       "  'u_sassy-dog-fashions',\n",
       "  'u_smack-the-dog',\n",
       "  'u_snoopy-dog-71'})"
      ]
     },
     "execution_count": 5,
     "metadata": {},
     "output_type": "execute_result"
    }
   ],
   "source": [
    "set(df_cat['subreddit']), set(df_dog['subreddit'])"
   ]
  },
  {
   "cell_type": "markdown",
   "id": "db4b3666-f043-450e-bd49-2b5199a1731d",
   "metadata": {},
   "source": [
    "#### Remove unwant subreddit category"
   ]
  },
  {
   "cell_type": "code",
   "execution_count": 6,
   "id": "970c6d9a-5339-46a7-aa4a-9bf740535415",
   "metadata": {},
   "outputs": [
    {
     "data": {
      "text/plain": [
       "((4471, 2), (4568, 2))"
      ]
     },
     "execution_count": 6,
     "metadata": {},
     "output_type": "execute_result"
    }
   ],
   "source": [
    "df_cat = df_cat[df_cat['subreddit']=='cat']\n",
    "df_dog = df_dog[df_dog['subreddit']=='DOG']\n",
    "df_cat.shape, df_dog.shape"
   ]
  },
  {
   "cell_type": "markdown",
   "id": "414e3a83-2771-4761-8344-e7e2c4a385a9",
   "metadata": {},
   "source": [
    "### Looking for any duplicates title"
   ]
  },
  {
   "cell_type": "code",
   "execution_count": 7,
   "id": "3f1a0029-852e-415b-bb6f-4472169091e7",
   "metadata": {},
   "outputs": [
    {
     "data": {
      "text/html": [
       "<div>\n",
       "<style scoped>\n",
       "    .dataframe tbody tr th:only-of-type {\n",
       "        vertical-align: middle;\n",
       "    }\n",
       "\n",
       "    .dataframe tbody tr th {\n",
       "        vertical-align: top;\n",
       "    }\n",
       "\n",
       "    .dataframe thead th {\n",
       "        text-align: right;\n",
       "    }\n",
       "</style>\n",
       "<table border=\"1\" class=\"dataframe\">\n",
       "  <thead>\n",
       "    <tr style=\"text-align: right;\">\n",
       "      <th></th>\n",
       "      <th>subreddit</th>\n",
       "      <th>title</th>\n",
       "    </tr>\n",
       "  </thead>\n",
       "  <tbody>\n",
       "    <tr>\n",
       "      <th>13</th>\n",
       "      <td>cat</td>\n",
       "      <td>beatiful cats</td>\n",
       "    </tr>\n",
       "    <tr>\n",
       "      <th>58</th>\n",
       "      <td>cat</td>\n",
       "      <td>my king of the jungle🤭😍</td>\n",
       "    </tr>\n",
       "    <tr>\n",
       "      <th>71</th>\n",
       "      <td>cat</td>\n",
       "      <td>This time it is it from the left hug</td>\n",
       "    </tr>\n",
       "    <tr>\n",
       "      <th>286</th>\n",
       "      <td>cat</td>\n",
       "      <td>Call me crazy but what if cats know we see the...</td>\n",
       "    </tr>\n",
       "    <tr>\n",
       "      <th>291</th>\n",
       "      <td>cat</td>\n",
       "      <td>Sunday mood</td>\n",
       "    </tr>\n",
       "    <tr>\n",
       "      <th>...</th>\n",
       "      <td>...</td>\n",
       "      <td>...</td>\n",
       "    </tr>\n",
       "    <tr>\n",
       "      <th>4897</th>\n",
       "      <td>cat</td>\n",
       "      <td>God has entered into my body, as a Ghost body!...</td>\n",
       "    </tr>\n",
       "    <tr>\n",
       "      <th>4924</th>\n",
       "      <td>cat</td>\n",
       "      <td>Big chomp</td>\n",
       "    </tr>\n",
       "    <tr>\n",
       "      <th>4928</th>\n",
       "      <td>cat</td>\n",
       "      <td>Would you squeeze my cheeks?</td>\n",
       "    </tr>\n",
       "    <tr>\n",
       "      <th>4952</th>\n",
       "      <td>cat</td>\n",
       "      <td>Big chomp</td>\n",
       "    </tr>\n",
       "    <tr>\n",
       "      <th>4979</th>\n",
       "      <td>cat</td>\n",
       "      <td>Would you squeeze my cheeks?</td>\n",
       "    </tr>\n",
       "  </tbody>\n",
       "</table>\n",
       "<p>224 rows × 2 columns</p>\n",
       "</div>"
      ],
      "text/plain": [
       "     subreddit                                              title\n",
       "13         cat                                      beatiful cats\n",
       "58         cat                            my king of the jungle🤭😍\n",
       "71         cat               This time it is it from the left hug\n",
       "286        cat  Call me crazy but what if cats know we see the...\n",
       "291        cat                                        Sunday mood\n",
       "...        ...                                                ...\n",
       "4897       cat  God has entered into my body, as a Ghost body!...\n",
       "4924       cat                                          Big chomp\n",
       "4928       cat                       Would you squeeze my cheeks?\n",
       "4952       cat                                          Big chomp\n",
       "4979       cat                       Would you squeeze my cheeks?\n",
       "\n",
       "[224 rows x 2 columns]"
      ]
     },
     "execution_count": 7,
     "metadata": {},
     "output_type": "execute_result"
    }
   ],
   "source": [
    "df_cat[df_cat.duplicated(['title'])]\n",
    "# got this from https://www.statology.org/pandas-find-duplicates/"
   ]
  },
  {
   "cell_type": "code",
   "execution_count": 8,
   "id": "7d08c649-2ba1-41ee-8b01-893f621a00d6",
   "metadata": {},
   "outputs": [
    {
     "data": {
      "text/html": [
       "<div>\n",
       "<style scoped>\n",
       "    .dataframe tbody tr th:only-of-type {\n",
       "        vertical-align: middle;\n",
       "    }\n",
       "\n",
       "    .dataframe tbody tr th {\n",
       "        vertical-align: top;\n",
       "    }\n",
       "\n",
       "    .dataframe thead th {\n",
       "        text-align: right;\n",
       "    }\n",
       "</style>\n",
       "<table border=\"1\" class=\"dataframe\">\n",
       "  <thead>\n",
       "    <tr style=\"text-align: right;\">\n",
       "      <th></th>\n",
       "      <th>subreddit</th>\n",
       "      <th>title</th>\n",
       "    </tr>\n",
       "  </thead>\n",
       "  <tbody>\n",
       "    <tr>\n",
       "      <th>89</th>\n",
       "      <td>DOG</td>\n",
       "      <td>Humans being Heros | by u/tarikdz5</td>\n",
       "    </tr>\n",
       "    <tr>\n",
       "      <th>155</th>\n",
       "      <td>DOG</td>\n",
       "      <td>God entered into my body, like an angelic fire...</td>\n",
       "    </tr>\n",
       "    <tr>\n",
       "      <th>233</th>\n",
       "      <td>DOG</td>\n",
       "      <td>Today is Piper's gotcha day 😍💕</td>\n",
       "    </tr>\n",
       "    <tr>\n",
       "      <th>412</th>\n",
       "      <td>DOG</td>\n",
       "      <td>50% off Discount on Pet Memorial Picture Frame...</td>\n",
       "    </tr>\n",
       "    <tr>\n",
       "      <th>539</th>\n",
       "      <td>DOG</td>\n",
       "      <td>What is he dreaming about?</td>\n",
       "    </tr>\n",
       "    <tr>\n",
       "      <th>...</th>\n",
       "      <td>...</td>\n",
       "      <td>...</td>\n",
       "    </tr>\n",
       "    <tr>\n",
       "      <th>4930</th>\n",
       "      <td>DOG</td>\n",
       "      <td>Age progression of my sweet Jackabee, Bailey ❤️</td>\n",
       "    </tr>\n",
       "    <tr>\n",
       "      <th>4955</th>\n",
       "      <td>DOG</td>\n",
       "      <td>What should I do?</td>\n",
       "    </tr>\n",
       "    <tr>\n",
       "      <th>4961</th>\n",
       "      <td>DOG</td>\n",
       "      <td>dogo</td>\n",
       "    </tr>\n",
       "    <tr>\n",
       "      <th>4982</th>\n",
       "      <td>DOG</td>\n",
       "      <td>Sleepy doggo</td>\n",
       "    </tr>\n",
       "    <tr>\n",
       "      <th>4986</th>\n",
       "      <td>DOG</td>\n",
       "      <td>Can anyone tell me what breed this is?</td>\n",
       "    </tr>\n",
       "  </tbody>\n",
       "</table>\n",
       "<p>158 rows × 2 columns</p>\n",
       "</div>"
      ],
      "text/plain": [
       "     subreddit                                              title\n",
       "89         DOG                 Humans being Heros | by u/tarikdz5\n",
       "155        DOG  God entered into my body, like an angelic fire...\n",
       "233        DOG                     Today is Piper's gotcha day 😍💕\n",
       "412        DOG  50% off Discount on Pet Memorial Picture Frame...\n",
       "539        DOG                         What is he dreaming about?\n",
       "...        ...                                                ...\n",
       "4930       DOG    Age progression of my sweet Jackabee, Bailey ❤️\n",
       "4955       DOG                                  What should I do?\n",
       "4961       DOG                                               dogo\n",
       "4982       DOG                                       Sleepy doggo\n",
       "4986       DOG             Can anyone tell me what breed this is?\n",
       "\n",
       "[158 rows x 2 columns]"
      ]
     },
     "execution_count": 8,
     "metadata": {},
     "output_type": "execute_result"
    }
   ],
   "source": [
    "df_dog[df_dog.duplicated(['title'])]"
   ]
  },
  {
   "cell_type": "markdown",
   "id": "948812f1-a81e-427b-9bf9-797b0930f185",
   "metadata": {},
   "source": [
    "#### Remove duplicates"
   ]
  },
  {
   "cell_type": "code",
   "execution_count": 9,
   "id": "2240ac68-9b57-4f5b-be53-bd492f8d76f0",
   "metadata": {},
   "outputs": [
    {
     "data": {
      "text/plain": [
       "((4121, 2), (4301, 2))"
      ]
     },
     "execution_count": 9,
     "metadata": {},
     "output_type": "execute_result"
    }
   ],
   "source": [
    "df_cat.drop_duplicates(subset=\"title\", keep=False, inplace=True)\n",
    "df_dog.drop_duplicates(subset=\"title\", keep=False, inplace=True)\n",
    "df_cat.shape, df_dog.shape\n",
    "# got this from https://www.geeksforgeeks.org/python-pandas-dataframe-drop_duplicates/"
   ]
  },
  {
   "cell_type": "markdown",
   "id": "e11d55c2-eb08-4796-9032-27e33464cbe5",
   "metadata": {},
   "source": [
    "### Until now we have data left around 4,000 posts for each category"
   ]
  },
  {
   "cell_type": "markdown",
   "id": "7646df14-5406-4521-8853-0447476c771e",
   "metadata": {},
   "source": [
    "### Distribution of post lengths"
   ]
  },
  {
   "cell_type": "code",
   "execution_count": 10,
   "id": "93d2b832-c5e6-49cf-85c8-b19b0274d4d4",
   "metadata": {},
   "outputs": [
    {
     "data": {
      "image/png": "[encoded data removed]",
      "text/plain": [
       "<Figure size 640x480 with 1 Axes>"
      ]
     },
     "metadata": {},
     "output_type": "display_data"
    }
   ],
   "source": [
    "df_cat['title_length'] = df_cat['title'].map(lambda x: len(x))\n",
    "sns.histplot(df_cat['title_length']).set(title='Cats: Distribution of title lengths', ylabel='Frequency', xlabel='Title lengths');"
   ]
  },
  {
   "cell_type": "code",
   "execution_count": 11,
   "id": "0fae02ff-1ff1-4e26-addf-e99702010935",
   "metadata": {},
   "outputs": [
    {
     "data": {
      "image/png": "[encoded data removed]",
      "text/plain": [
       "<Figure size 640x480 with 1 Axes>"
      ]
     },
     "metadata": {},
     "output_type": "display_data"
    }
   ],
   "source": [
    "df_dog['title_length'] = df_dog['title'].map(lambda x: len(x))\n",
    "sns.histplot(df_dog['title_length']).set(title='Dogs: Distribution of title lengths', ylabel='Frequency', xlabel='Title lengths');"
   ]
  },
  {
   "cell_type": "code",
   "execution_count": 32,
   "id": "366ab48e-252d-463a-92ed-501e5fa54e08",
   "metadata": {},
   "outputs": [
    {
     "data": {
      "text/html": [
       "<div>\n",
       "<style scoped>\n",
       "    .dataframe tbody tr th:only-of-type {\n",
       "        vertical-align: middle;\n",
       "    }\n",
       "\n",
       "    .dataframe tbody tr th {\n",
       "        vertical-align: top;\n",
       "    }\n",
       "\n",
       "    .dataframe thead th {\n",
       "        text-align: right;\n",
       "    }\n",
       "</style>\n",
       "<table border=\"1\" class=\"dataframe\">\n",
       "  <thead>\n",
       "    <tr style=\"text-align: right;\">\n",
       "      <th></th>\n",
       "      <th>title_length</th>\n",
       "    </tr>\n",
       "  </thead>\n",
       "  <tbody>\n",
       "    <tr>\n",
       "      <th>count</th>\n",
       "      <td>4121.000000</td>\n",
       "    </tr>\n",
       "    <tr>\n",
       "      <th>mean</th>\n",
       "      <td>40.820432</td>\n",
       "    </tr>\n",
       "    <tr>\n",
       "      <th>std</th>\n",
       "      <td>42.687494</td>\n",
       "    </tr>\n",
       "    <tr>\n",
       "      <th>min</th>\n",
       "      <td>1.000000</td>\n",
       "    </tr>\n",
       "    <tr>\n",
       "      <th>25%</th>\n",
       "      <td>16.000000</td>\n",
       "    </tr>\n",
       "    <tr>\n",
       "      <th>50%</th>\n",
       "      <td>28.000000</td>\n",
       "    </tr>\n",
       "    <tr>\n",
       "      <th>75%</th>\n",
       "      <td>48.000000</td>\n",
       "    </tr>\n",
       "    <tr>\n",
       "      <th>max</th>\n",
       "      <td>303.000000</td>\n",
       "    </tr>\n",
       "  </tbody>\n",
       "</table>\n",
       "</div>"
      ],
      "text/plain": [
       "       title_length\n",
       "count   4121.000000\n",
       "mean      40.820432\n",
       "std       42.687494\n",
       "min        1.000000\n",
       "25%       16.000000\n",
       "50%       28.000000\n",
       "75%       48.000000\n",
       "max      303.000000"
      ]
     },
     "execution_count": 32,
     "metadata": {},
     "output_type": "execute_result"
    }
   ],
   "source": [
    "df_cat.describe()"
   ]
  },
  {
   "cell_type": "code",
   "execution_count": 33,
   "id": "305c09c7-415f-41a6-8b74-655b1ef56dd9",
   "metadata": {},
   "outputs": [
    {
     "data": {
      "text/html": [
       "<div>\n",
       "<style scoped>\n",
       "    .dataframe tbody tr th:only-of-type {\n",
       "        vertical-align: middle;\n",
       "    }\n",
       "\n",
       "    .dataframe tbody tr th {\n",
       "        vertical-align: top;\n",
       "    }\n",
       "\n",
       "    .dataframe thead th {\n",
       "        text-align: right;\n",
       "    }\n",
       "</style>\n",
       "<table border=\"1\" class=\"dataframe\">\n",
       "  <thead>\n",
       "    <tr style=\"text-align: right;\">\n",
       "      <th></th>\n",
       "      <th>title_length</th>\n",
       "    </tr>\n",
       "  </thead>\n",
       "  <tbody>\n",
       "    <tr>\n",
       "      <th>count</th>\n",
       "      <td>4301.000000</td>\n",
       "    </tr>\n",
       "    <tr>\n",
       "      <th>mean</th>\n",
       "      <td>44.527552</td>\n",
       "    </tr>\n",
       "    <tr>\n",
       "      <th>std</th>\n",
       "      <td>42.271855</td>\n",
       "    </tr>\n",
       "    <tr>\n",
       "      <th>min</th>\n",
       "      <td>1.000000</td>\n",
       "    </tr>\n",
       "    <tr>\n",
       "      <th>25%</th>\n",
       "      <td>19.000000</td>\n",
       "    </tr>\n",
       "    <tr>\n",
       "      <th>50%</th>\n",
       "      <td>33.000000</td>\n",
       "    </tr>\n",
       "    <tr>\n",
       "      <th>75%</th>\n",
       "      <td>53.000000</td>\n",
       "    </tr>\n",
       "    <tr>\n",
       "      <th>max</th>\n",
       "      <td>336.000000</td>\n",
       "    </tr>\n",
       "  </tbody>\n",
       "</table>\n",
       "</div>"
      ],
      "text/plain": [
       "       title_length\n",
       "count   4301.000000\n",
       "mean      44.527552\n",
       "std       42.271855\n",
       "min        1.000000\n",
       "25%       19.000000\n",
       "50%       33.000000\n",
       "75%       53.000000\n",
       "max      336.000000"
      ]
     },
     "execution_count": 33,
     "metadata": {},
     "output_type": "execute_result"
    }
   ],
   "source": [
    "df_dog.describe()"
   ]
  },
  {
   "cell_type": "markdown",
   "id": "7d7de8be-e6db-4c3d-bb67-c9bbf957d9cf",
   "metadata": {},
   "source": [
    "#### > Dog posts have longer post lengths than cats."
   ]
  },
  {
   "cell_type": "markdown",
   "id": "d17ba3d8-ad2d-4dda-838e-4fd72c7f67d1",
   "metadata": {},
   "source": [
    "## Word Counts by Vectorize the text"
   ]
  },
  {
   "cell_type": "markdown",
   "id": "bf81fa5f-d867-4382-af49-4624161746e1",
   "metadata": {},
   "source": [
    "### Cats most common words"
   ]
  },
  {
   "cell_type": "code",
   "execution_count": 41,
   "id": "cde18f00-71af-45ef-8e1e-be06c689c801",
   "metadata": {},
   "outputs": [],
   "source": [
    "cvec = CountVectorizer(stop_words='english')\n",
    "cvec.fit(df_cat['title'])\n",
    "status_cvec = cvec.transform(df_cat['title'])\n",
    "cat_cvec = pd.DataFrame(status_cvec.toarray(), columns=cvec.get_feature_names_out())"
   ]
  },
  {
   "cell_type": "code",
   "execution_count": 42,
   "id": "fb2b7d6e-ab76-4bc5-ab1e-9ecbde8f4956",
   "metadata": {},
   "outputs": [
    {
     "data": {
      "text/plain": [
       "cat          1251\n",
       "cats          265\n",
       "like          166\n",
       "cute          146\n",
       "love          135\n",
       "little        133\n",
       "just          130\n",
       "kitten        126\n",
       "new           118\n",
       "kitty         116\n",
       "baby          107\n",
       "help           89\n",
       "time           81\n",
       "breed          77\n",
       "christmas      76\n",
       "dtype: int64"
      ]
     },
     "execution_count": 42,
     "metadata": {},
     "output_type": "execute_result"
    }
   ],
   "source": [
    "cat_cvec.sum(axis=0).sort_values(ascending=False).head(15)"
   ]
  },
  {
   "cell_type": "code",
   "execution_count": 47,
   "id": "f093226e-3682-4743-98de-4556f5ce8f3c",
   "metadata": {},
   "outputs": [
    {
     "data": {
      "image/png": "[encoded data removed]",
      "text/plain": [
       "<Figure size 640x480 with 1 Axes>"
      ]
     },
     "metadata": {},
     "output_type": "display_data"
    }
   ],
   "source": [
    "cat_cvec.sum(axis=0).sort_values(ascending=False).head(15).plot(kind='bar')\n",
    "plt.title('Cats: Frequency of the 15 most common words')\n",
    "plt.xlabel('Word')\n",
    "plt.ylabel('Count');"
   ]
  },
  {
   "cell_type": "markdown",
   "id": "e9e71b5a-e6b4-45c1-b075-32431d1ce2b5",
   "metadata": {},
   "source": [
    "### Dogs most common words"
   ]
  },
  {
   "cell_type": "code",
   "execution_count": 43,
   "id": "a43b96f8-1720-4671-ba3e-d166f43eed0b",
   "metadata": {},
   "outputs": [],
   "source": [
    "cvec = CountVectorizer(stop_words='english')\n",
    "cvec.fit(df_dog['title'])\n",
    "status_cvec = cvec.transform(df_dog['title'])\n",
    "dog_cvec = pd.DataFrame(status_cvec.toarray(), columns=cvec.get_feature_names_out())"
   ]
  },
  {
   "cell_type": "code",
   "execution_count": 44,
   "id": "c1a75fbf-109d-47f0-b658-3de4347fce43",
   "metadata": {},
   "outputs": [
    {
     "data": {
      "text/plain": [
       "dog       1234\n",
       "dogs       267\n",
       "help       178\n",
       "puppy      161\n",
       "breed      152\n",
       "just       143\n",
       "cute       143\n",
       "old        137\n",
       "little     133\n",
       "new        124\n",
       "know       124\n",
       "love       118\n",
       "like       113\n",
       "best       108\n",
       "boy        106\n",
       "dtype: int64"
      ]
     },
     "execution_count": 44,
     "metadata": {},
     "output_type": "execute_result"
    }
   ],
   "source": [
    "dog_cvec.sum(axis=0).sort_values(ascending=False).head(15)"
   ]
  },
  {
   "cell_type": "code",
   "execution_count": 48,
   "id": "68edfdca-c11e-4d75-91e1-a47444307722",
   "metadata": {},
   "outputs": [
    {
     "data": {
      "image/png": "[encoded data removed]",
      "text/plain": [
       "<Figure size 640x480 with 1 Axes>"
      ]
     },
     "metadata": {},
     "output_type": "display_data"
    }
   ],
   "source": [
    "dog_cvec.sum(axis=0).sort_values(ascending=False).head(15).plot(kind='bar')\n",
    "plt.title('Dogs: Frequency of the 15 most common words')\n",
    "plt.xlabel('Word')\n",
    "plt.ylabel('Count');"
   ]
  },
  {
   "cell_type": "markdown",
   "id": "3ef006b6-18cf-4f9c-b830-925eb62bd18a",
   "metadata": {},
   "source": [
    "### Most common bigrams:"
   ]
  },
  {
   "cell_type": "markdown",
   "id": "c62ed5be-2a2f-48db-9ae5-2d0f4ae8814a",
   "metadata": {},
   "source": [
    "### Cats"
   ]
  },
  {
   "cell_type": "code",
   "execution_count": 56,
   "id": "d7a2907b-1465-4859-901d-7eb9c67dfeaf",
   "metadata": {},
   "outputs": [],
   "source": [
    "cvec = CountVectorizer(ngram_range=(2,2), stop_words='english')\n",
    "cvec.fit(df_cat['title'])\n",
    "cat_cvec = cvec.transform(df_cat['title'])\n",
    "cat_cvec = pd.DataFrame(cat_cvec.toarray(), columns=cvec.get_feature_names_out())"
   ]
  },
  {
   "cell_type": "code",
   "execution_count": 62,
   "id": "bb6e5714-42da-4027-bc06-b041bd056aa4",
   "metadata": {},
   "outputs": [
    {
     "data": {
      "text/plain": [
       "cute cat          24\n",
       "breed cat         24\n",
       "looks like        22\n",
       "stray cat         18\n",
       "christmas tree    16\n",
       "does know         16\n",
       "need help         16\n",
       "cat breed         15\n",
       "don know          14\n",
       "cat loves         14\n",
       "new year          13\n",
       "new cat           13\n",
       "years old         13\n",
       "year old          13\n",
       "does cat          12\n",
       "dtype: int64"
      ]
     },
     "execution_count": 62,
     "metadata": {},
     "output_type": "execute_result"
    }
   ],
   "source": [
    "cat_cvec.sum(axis=0).sort_values(ascending=False).head(15)"
   ]
  },
  {
   "cell_type": "code",
   "execution_count": 64,
   "id": "dfc4a14a-26ff-4b1a-b6d9-5b77259f9762",
   "metadata": {},
   "outputs": [
    {
     "data": {
      "image/png": "[encoded data removed]",
      "text/plain": [
       "<Figure size 640x480 with 1 Axes>"
      ]
     },
     "metadata": {},
     "output_type": "display_data"
    }
   ],
   "source": [
    "cat_cvec.sum(axis=0).sort_values(ascending=False).head(15).plot(kind='bar')\n",
    "plt.title('Cats: Frequency of the 15 most bigrams words')\n",
    "plt.xlabel('Word')\n",
    "plt.ylabel('Count');"
   ]
  },
  {
   "cell_type": "markdown",
   "id": "584603ea-e7bf-4ef3-a1dd-61e0614e5b7b",
   "metadata": {},
   "source": [
    "### Dogs"
   ]
  },
  {
   "cell_type": "code",
   "execution_count": 58,
   "id": "b8e3af44-c3a9-43cd-b42e-1f5fbe477c78",
   "metadata": {},
   "outputs": [],
   "source": [
    "cvec = CountVectorizer(ngram_range=(2,2), stop_words='english')\n",
    "cvec.fit(df_dog['title'])\n",
    "dog_cvec = cvec.transform(df_dog['title'])\n",
    "dog_cvec = pd.DataFrame(dog_cvec.toarray(), columns=cvec.get_feature_names_out())"
   ]
  },
  {
   "cell_type": "code",
   "execution_count": 68,
   "id": "623ba48c-02b8-4aa1-b015-d50fcbf706a5",
   "metadata": {},
   "outputs": [
    {
     "data": {
      "text/plain": [
       "need help          37\n",
       "does know          36\n",
       "breed dog          28\n",
       "dog breed          27\n",
       "year old           25\n",
       "know breed         22\n",
       "best friend        21\n",
       "years old          20\n",
       "cute dog           19\n",
       "kind dog           19\n",
       "dog breeds         19\n",
       "looks like         18\n",
       "months old         17\n",
       "month old          16\n",
       "german shepherd    15\n",
       "dtype: int64"
      ]
     },
     "execution_count": 68,
     "metadata": {},
     "output_type": "execute_result"
    }
   ],
   "source": [
    "dog_cvec.sum(axis=0).sort_values(ascending=False).head(15)"
   ]
  },
  {
   "cell_type": "code",
   "execution_count": 65,
   "id": "4cf11ecd-72e9-4124-acae-8967e470d7cf",
   "metadata": {},
   "outputs": [
    {
     "data": {
      "image/png": "[encoded data removed]",
      "text/plain": [
       "<Figure size 640x480 with 1 Axes>"
      ]
     },
     "metadata": {},
     "output_type": "display_data"
    }
   ],
   "source": [
    "dog_cvec.sum(axis=0).sort_values(ascending=False).head(15).plot(kind='bar')\n",
    "plt.title('Dogs: Frequency of the 15 most bigrams words')\n",
    "plt.xlabel('Word')\n",
    "plt.ylabel('Count');"
   ]
  },
  {
   "cell_type": "markdown",
   "id": "38cff81d-4e4b-4e8b-a07e-68a1b193cf59",
   "metadata": {},
   "source": [
    "## Prepare data and Save to csv for next step"
   ]
  },
  {
   "cell_type": "code",
   "execution_count": 78,
   "id": "8e13e458-56f0-427e-8443-df8e44a20f5f",
   "metadata": {},
   "outputs": [],
   "source": [
    "# Save cleaned data first\n",
    "df_cat.to_csv('data/cat_clean.csv')\n",
    "df_dog.to_csv('data/dog_clean.csv')"
   ]
  },
  {
   "cell_type": "markdown",
   "id": "9354bc86-eb2a-48ee-a2c5-5d5a016a7c2f",
   "metadata": {},
   "source": [
    "Balance data by saving 4000 for each category"
   ]
  },
  {
   "cell_type": "code",
   "execution_count": 79,
   "id": "d3e851bc-cdfa-41f3-9f23-55d81231376b",
   "metadata": {},
   "outputs": [],
   "source": [
    "# Balance data, change category cat to 1 and DOG to 0\n",
    "df_nlp = pd.concat([df_cat[:4000], df_dog[:4000]], ignore_index=True).drop(columns='title_length')\n",
    "df_nlp['subreddit'] = df_nlp['subreddit'].map({'cat':1, 'DOG':0})\n",
    "df_nlp.to_csv('data/nlp_cat_dog.csv')"
   ]
  },
  {
   "cell_type": "code",
   "execution_count": null,
   "id": "c447617f-32ad-47cd-ab60-b74979d4cd82",
   "metadata": {},
   "outputs": [],
   "source": []
  }
 ],
 "metadata": {
  "kernelspec": {
   "display_name": "Python 3 (ipykernel)",
   "language": "python",
   "name": "python3"
  },
  "language_info": {
   "codemirror_mode": {
    "name": "ipython",
    "version": 3
   },
   "file_extension": ".py",
   "mimetype": "text/x-python",
   "name": "python",
   "nbconvert_exporter": "python",
   "pygments_lexer": "ipython3",
   "version": "3.9.13"
  }
 },
 "nbformat": 4,
 "nbformat_minor": 5
}
