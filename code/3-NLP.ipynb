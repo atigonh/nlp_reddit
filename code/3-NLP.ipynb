{
 "cells": [
  {
   "cell_type": "markdown",
   "id": "abe0897c-2cfe-4571-b6bd-d74d7046f4c6",
   "metadata": {},
   "source": [
    "# Project 3 : 3-NLP"
   ]
  },
  {
   "cell_type": "markdown",
   "id": "cb4dab3a-8475-447b-b43e-7a1638276155",
   "metadata": {},
   "source": [
    "## Problem statement"
   ]
  },
  {
   "cell_type": "markdown",
   "id": "6366a5fc-a5a1-4d2b-a7cf-12103bca26c9",
   "metadata": {},
   "source": [
    "> #### Create the model to predict where the given post came from between cat and dog post\n",
    "\n",
    "> - **Create and compare two models**. Any two classifiers at least of your choosing: random forest, logistic regression, KNN, etc."
   ]
  },
  {
   "cell_type": "markdown",
   "id": "66ca8f60-17ae-4940-a580-eeaa8f2aefbd",
   "metadata": {},
   "source": [
    "try to use random search at first\n",
    "\n",
    "cvec + rf\n",
    "tfidf + rf\n",
    "\n",
    "cvec + lr\n",
    "cvec + ss + lr\n",
    "\n",
    "cvec + ss + knn : \n",
    "tfidf + knn\n",
    "\n",
    "cvec + nb + gs : try 2grams 3grams\n",
    "\n",
    "cvec + ss + boost\n",
    "\n",
    "stack\n",
    "lv1 = nb + rf + lr\n",
    "lv2 = lr"
   ]
  },
  {
   "cell_type": "code",
   "execution_count": null,
   "id": "cca57035-d0a0-4524-b31e-6c0909664985",
   "metadata": {},
   "outputs": [],
   "source": []
  }
 ],
 "metadata": {
  "kernelspec": {
   "display_name": "Python 3 (ipykernel)",
   "language": "python",
   "name": "python3"
  },
  "language_info": {
   "codemirror_mode": {
    "name": "ipython",
    "version": 3
   },
   "file_extension": ".py",
   "mimetype": "text/x-python",
   "name": "python",
   "nbconvert_exporter": "python",
   "pygments_lexer": "ipython3",
   "version": "3.9.13"
  }
 },
 "nbformat": 4,
 "nbformat_minor": 5
}
